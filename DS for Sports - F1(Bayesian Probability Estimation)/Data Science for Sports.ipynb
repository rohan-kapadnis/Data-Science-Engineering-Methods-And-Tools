{
 "cells": [
  {
   "cell_type": "markdown",
   "metadata": {},
   "source": [
    "# Assignment 4 : Introduction to Data Science for Sports"
   ]
  },
  {
   "cell_type": "code",
   "execution_count": 48,
   "metadata": {},
   "outputs": [],
   "source": [
    "class ProbDist(dict):\n",
    "    \"\"\"A Probability Distribution; an {outcome: probability} mapping.\"\"\"\n",
    "    def __init__(self, mapping=(), **kwargs):\n",
    "        self.update(mapping, **kwargs)\n",
    "        # Make probabilities sum to 1.0; assert no negative probabilities\n",
    "        total = sum(self.values())\n",
    "        for outcome in self:\n",
    "            self[outcome] = self[outcome] / total\n",
    "            assert self[outcome] >= 0"
   ]
  },
  {
   "cell_type": "code",
   "execution_count": 49,
   "metadata": {},
   "outputs": [],
   "source": [
    "def p(event , space): \n",
    "    \"\"\"The probability of an event, given a sample space of equiprobable outcomes. \n",
    "    event: a collection of outcomes, or a predicate that is true of outcomes in the event. \n",
    "    space: a set of outcomes or a probability distribution of {outcome: frequency} pairs.\"\"\"\n",
    "    if is_predicate(event):\n",
    "        event = such_that(event, space)\n",
    "    if isinstance(space, ProbDist):\n",
    "        return sum(space[o] for o in space if o in event)\n",
    "    else:\n",
    "        return Fraction(len(event & space), len(space))\n",
    "\n",
    "is_predicate = callable\n",
    "\n",
    "def such_that(predicate, space): \n",
    "    \"\"\"The outcomes in the sample pace for which the predicate is true.\n",
    "    If space is a set, return a subset {outcome,...} with outcomes where predicate(element) is true;\n",
    "    if space is a ProbDist, return a ProbDist {outcome: frequency,...} with outcomes where predicate(element) is true.\"\"\"\n",
    "    if isinstance(space, ProbDist):\n",
    "        return ProbDist({o:space[o] for o in space if predicate(o)})\n",
    "    else:\n",
    "        return {o for o in space if predicate(o)}"
   ]
  },
  {
   "cell_type": "markdown",
   "metadata": {},
   "source": [
    "Singapore GP Probability distribution"
   ]
  },
  {
   "cell_type": "code",
   "execution_count": 50,
   "metadata": {},
   "outputs": [],
   "source": [
    "SGP = ProbDist(\n",
    "    LH = 413,\n",
    "    VB = 326,\n",
    "    MV = 278,\n",
    "    LC = 264,\n",
    "    SV = 240,\n",
    "    CS = 96,\n",
    "    PG = 95,\n",
    "    AA = 92,\n",
    "    RD = 54,\n",
    "    SP = 52,\n",
    "    LN = 49,\n",
    "    KR = 43,\n",
    "    DK = 37,\n",
    "    NH = 37,\n",
    "    LS = 21,\n",
    "    KM = 20,\n",
    "    AG = 14,\n",
    "    RG = 8,\n",
    "    RK = 1,\n",
    "    GR = 0)"
   ]
  },
  {
   "cell_type": "code",
   "execution_count": 51,
   "metadata": {},
   "outputs": [
    {
     "data": {
      "text/plain": [
       "{'LH': 0.1929906542056075,\n",
       " 'VB': 0.15233644859813084,\n",
       " 'MV': 0.12990654205607477,\n",
       " 'LC': 0.1233644859813084,\n",
       " 'SV': 0.11214953271028037,\n",
       " 'CS': 0.044859813084112146,\n",
       " 'PG': 0.04439252336448598,\n",
       " 'AA': 0.04299065420560748,\n",
       " 'RD': 0.025233644859813085,\n",
       " 'SP': 0.024299065420560748,\n",
       " 'LN': 0.022897196261682243,\n",
       " 'KR': 0.020093457943925235,\n",
       " 'DK': 0.017289719626168223,\n",
       " 'NH': 0.017289719626168223,\n",
       " 'LS': 0.009813084112149532,\n",
       " 'KM': 0.009345794392523364,\n",
       " 'AG': 0.0065420560747663555,\n",
       " 'RG': 0.003738317757009346,\n",
       " 'RK': 0.00046728971962616824,\n",
       " 'GR': 0.0}"
      ]
     },
     "execution_count": 51,
     "metadata": {},
     "output_type": "execute_result"
    }
   ],
   "source": [
    "SGP"
   ]
  },
  {
   "cell_type": "markdown",
   "metadata": {},
   "source": [
    "Russian GP Probability Distribution"
   ]
  },
  {
   "cell_type": "code",
   "execution_count": 52,
   "metadata": {},
   "outputs": [],
   "source": [
    "RGP = ProbDist(\n",
    "    LH = 439,\n",
    "    VB = 344,\n",
    "    MV = 290,\n",
    "    CL = 279,\n",
    "    SV = 240,\n",
    "    CS = 104,\n",
    "    PG = 95,\n",
    "    AA = 102,\n",
    "    DR = 54,\n",
    "    SP = 58,\n",
    "    LN = 53,\n",
    "    KR = 43,\n",
    "    DK = 37,\n",
    "    NH = 38,\n",
    "    LS = 21,\n",
    "    KM = 22,\n",
    "    AG = 14,\n",
    "    RG = 8,\n",
    "    RK = 1,\n",
    "    GR = 0\n",
    ")"
   ]
  },
  {
   "cell_type": "markdown",
   "metadata": {},
   "source": [
    "Joint Probability Distribution"
   ]
  },
  {
   "cell_type": "code",
   "execution_count": 53,
   "metadata": {},
   "outputs": [
    {
     "data": {
      "text/plain": [
       "{'LH_LH': 0.037788981800295135,\n",
       " 'LH_VB': 0.029611411706837194,\n",
       " 'LH_MV': 0.024963108706345313,\n",
       " 'LH_CL': 0.024016232169208077,\n",
       " 'LH_SV': 0.0206591244466306,\n",
       " 'LH_CS': 0.008952287260206594,\n",
       " 'LH_PG': 0.008177570093457947,\n",
       " 'LH_AA': 0.008780127889818006,\n",
       " 'LH_DR': 0.004648303000491885,\n",
       " 'LH_SP': 0.004992621741269062,\n",
       " 'LH_LN': 0.004562223315297591,\n",
       " 'LH_KR': 0.003701426463354649,\n",
       " 'LH_DK': 0.0031849483521888848,\n",
       " 'LH_NH': 0.0032710280373831786,\n",
       " 'LH_LS': 0.0018076733890801777,\n",
       " 'LH_KM': 0.001893753074274472,\n",
       " 'LH_AG': 0.0012051155927201183,\n",
       " 'LH_RG': 0.0006886374815543533,\n",
       " 'LH_RK': 8.607968519429417e-05,\n",
       " 'LH_GR': 0.0,\n",
       " 'VB_LH': 0.029828590961007782,\n",
       " 'VB_VB': 0.023373656698375118,\n",
       " 'VB_MV': 0.019704536170141815,\n",
       " 'VB_CL': 0.0189571227292054,\n",
       " 'VB_SV': 0.01630720234770357,\n",
       " 'VB_CS': 0.007066454350671548,\n",
       " 'VB_PG': 0.006454934262632664,\n",
       " 'VB_AA': 0.0069305609977740185,\n",
       " 'VB_DR': 0.0036691205282333036,\n",
       " 'VB_SP': 0.003940907234028363,\n",
       " 'VB_LN': 0.0036011738517845392,\n",
       " 'VB_KR': 0.0029217070872968897,\n",
       " 'VB_DK': 0.0025140270286043006,\n",
       " 'VB_NH': 0.0025819737050530654,\n",
       " 'VB_LS': 0.0014268802054240625,\n",
       " 'VB_KM': 0.0014948268818728277,\n",
       " 'VB_AG': 0.0009512534702827084,\n",
       " 'VB_RG': 0.0005435734115901191,\n",
       " 'VB_RK': 6.794667644876488e-05,\n",
       " 'VB_GR': 0.0,\n",
       " 'MV_LH': 0.025436651187607868,\n",
       " 'MV_VB': 0.01993213669370639,\n",
       " 'MV_MV': 0.01680325477085713,\n",
       " 'MV_CL': 0.01616588993472117,\n",
       " 'MV_SV': 0.013906141879330041,\n",
       " 'MV_CS': 0.006025994814376351,\n",
       " 'MV_PG': 0.005504514493901474,\n",
       " 'MV_AA': 0.005910110298715268,\n",
       " 'MV_DR': 0.0031288819228492593,\n",
       " 'MV_SP': 0.0033606509541714265,\n",
       " 'MV_LN': 0.0030709396650187176,\n",
       " 'MV_KR': 0.002491517086713299,\n",
       " 'MV_DK': 0.002143863539730048,\n",
       " 'MV_NH': 0.00220180579756059,\n",
       " 'MV_LS': 0.0012167874144413786,\n",
       " 'MV_KM': 0.0012747296722719205,\n",
       " 'MV_AG': 0.0008111916096275858,\n",
       " 'MV_RG': 0.0004635380626443347,\n",
       " 'MV_RK': 5.794225783054184e-05,\n",
       " 'MV_GR': 0.0,\n",
       " 'LC_LH': 0.024155668753699556,\n",
       " 'LC_VB': 0.01892836002567801,\n",
       " 'LC_MV': 0.015957047696065766,\n",
       " 'LC_CL': 0.015351780369663271,\n",
       " 'LC_SV': 0.013205832576054427,\n",
       " 'LC_CS': 0.005722527449623584,\n",
       " 'LC_PG': 0.005227308728021543,\n",
       " 'LC_AA': 0.005612478844823131,\n",
       " 'LC_DR': 0.002971312329612246,\n",
       " 'LC_SP': 0.0031914095392131534,\n",
       " 'LC_LN': 0.002916288027212019,\n",
       " 'LC_KR': 0.0023660450032097513,\n",
       " 'LC_DK': 0.002035899188808391,\n",
       " 'LC_NH': 0.0020909234912086174,\n",
       " 'LC_LS': 0.0011555103504047623,\n",
       " 'LC_KM': 0.0012105346528049892,\n",
       " 'LC_AG': 0.0007703402336031749,\n",
       " 'LC_RG': 0.00044019441920181425,\n",
       " 'LC_RK': 5.502430240022678e-05,\n",
       " 'LC_GR': 0.0,\n",
       " 'SV_LH': 0.021959698866999593,\n",
       " 'SV_VB': 0.017207600023343646,\n",
       " 'SV_MV': 0.014506406996423424,\n",
       " 'SV_CL': 0.013956163972421156,\n",
       " 'SV_SV': 0.012005302341867662,\n",
       " 'SV_CS': 0.005202297681475986,\n",
       " 'SV_PG': 0.004752098843655949,\n",
       " 'SV_AA': 0.005102253495293756,\n",
       " 'SV_DR': 0.0027011930269202236,\n",
       " 'SV_SP': 0.0029012813992846847,\n",
       " 'SV_LN': 0.0026511709338291082,\n",
       " 'SV_KR': 0.002150950002917956,\n",
       " 'SV_DK': 0.0018508174443712647,\n",
       " 'SV_NH': 0.0019008395374623796,\n",
       " 'SV_LS': 0.0010504639549134204,\n",
       " 'SV_KM': 0.0011004860480045356,\n",
       " 'SV_AG': 0.0007003093032756135,\n",
       " 'SV_RG': 0.00040017674472892206,\n",
       " 'SV_RK': 5.002209309111526e-05,\n",
       " 'SV_GR': 0.0,\n",
       " 'CS_LH': 0.008783879546799838,\n",
       " 'CS_VB': 0.006883040009337458,\n",
       " 'CS_MV': 0.005802562798569369,\n",
       " 'CS_CL': 0.005582465588968462,\n",
       " 'CS_SV': 0.004802120936747064,\n",
       " 'CS_CS': 0.0020809190725903943,\n",
       " 'CS_PG': 0.0019008395374623794,\n",
       " 'CS_AA': 0.0020409013981175024,\n",
       " 'CS_DR': 0.0010804772107680894,\n",
       " 'CS_SP': 0.0011605125597138738,\n",
       " 'CS_LN': 0.0010604683735316433,\n",
       " 'CS_KR': 0.0008603800011671822,\n",
       " 'CS_DK': 0.0007403269777485058,\n",
       " 'CS_NH': 0.0007603358149849518,\n",
       " 'CS_LS': 0.00042018558196536815,\n",
       " 'CS_KM': 0.00044019441920181425,\n",
       " 'CS_AG': 0.0002801237213102454,\n",
       " 'CS_RG': 0.00016007069789156878,\n",
       " 'CS_RK': 2.0008837236446098e-05,\n",
       " 'CS_GR': 0.0,\n",
       " 'PG_LH': 0.008692380801520672,\n",
       " 'PG_VB': 0.00681134167590686,\n",
       " 'PG_MV': 0.0057421194360842715,\n",
       " 'PG_CL': 0.005524314905750041,\n",
       " 'PG_SV': 0.004752098843655949,\n",
       " 'PG_CS': 0.002059242832250911,\n",
       " 'PG_PG': 0.0018810391256138131,\n",
       " 'PG_AA': 0.0020196420085537782,\n",
       " 'PG_DR': 0.0010692222398225885,\n",
       " 'PG_SP': 0.0011484238872168542,\n",
       " 'PG_LN': 0.001049421827974022,\n",
       " 'PG_KR': 0.0008514177094883575,\n",
       " 'PG_DK': 0.0007326152383969589,\n",
       " 'PG_NH': 0.0007524156502455253,\n",
       " 'PG_LS': 0.0004158086488198956,\n",
       " 'PG_KM': 0.000435609060668462,\n",
       " 'PG_AG': 0.0002772057658799303,\n",
       " 'PG_RG': 0.00015840329478853163,\n",
       " 'PG_RK': 1.9800411848566454e-05,\n",
       " 'PG_GR': 0.0,\n",
       " 'AA_LH': 0.008417884565683178,\n",
       " 'AA_VB': 0.006596246675615065,\n",
       " 'AA_MV': 0.005560789348628979,\n",
       " 'AA_CL': 0.005349862856094776,\n",
       " 'AA_SV': 0.004602032564382604,\n",
       " 'AA_CS': 0.0019942141112324614,\n",
       " 'AA_PG': 0.001821637890068114,\n",
       " 'AA_AA': 0.0019558638398626065,\n",
       " 'AA_DR': 0.0010354573269860858,\n",
       " 'AA_SP': 0.0011121578697257958,\n",
       " 'AA_LN': 0.0010162821913011584,\n",
       " 'AA_KR': 0.0008245308344518831,\n",
       " 'AA_DK': 0.0007094800203423181,\n",
       " 'AA_NH': 0.0007286551560272455,\n",
       " 'AA_LS': 0.0004026778493834778,\n",
       " 'AA_KM': 0.0004218529850684054,\n",
       " 'AA_AG': 0.0002684518995889852,\n",
       " 'AA_RG': 0.00015340108547942012,\n",
       " 'AA_RK': 1.9175135684927515e-05,\n",
       " 'AA_GR': 0.0,\n",
       " 'RD_LH': 0.004940932245074909,\n",
       " 'RD_VB': 0.0038717100052523207,\n",
       " 'RD_MV': 0.0032639415741952706,\n",
       " 'RD_CL': 0.0031401368937947604,\n",
       " 'RD_SV': 0.0027011930269202236,\n",
       " 'RD_CS': 0.001170516978332097,\n",
       " 'RD_PG': 0.0010692222398225885,\n",
       " 'RD_AA': 0.001148007036441095,\n",
       " 'RD_DR': 0.0006077684310570503,\n",
       " 'RD_SP': 0.0006527883148390541,\n",
       " 'RD_LN': 0.0005965134601115495,\n",
       " 'RD_KR': 0.0004839637506565401,\n",
       " 'RD_DK': 0.00041643392498353455,\n",
       " 'RD_NH': 0.00042768889592903546,\n",
       " 'RD_LS': 0.0002363543898555196,\n",
       " 'RD_KM': 0.00024760936080102055,\n",
       " 'RD_AG': 0.00015756959323701304,\n",
       " 'RD_RG': 9.003976756400745e-05,\n",
       " 'RD_RK': 1.1254970945500932e-05,\n",
       " 'RD_GR': 0.0,\n",
       " 'SP_LH': 0.004757934754516579,\n",
       " 'SP_VB': 0.0037283133383911233,\n",
       " 'SP_MV': 0.0031430548492250754,\n",
       " 'SP_CL': 0.003023835527357917,\n",
       " 'SP_SV': 0.0026011488407379933,\n",
       " 'SP_CS': 0.0011271644976531302,\n",
       " 'SP_PG': 0.0010296214161254556,\n",
       " 'SP_AA': 0.0011054882573136471,\n",
       " 'SP_DR': 0.0005852584891660484,\n",
       " 'SP_SP': 0.000628610969845015,\n",
       " 'SP_LN': 0.0005744203689963068,\n",
       " 'SP_KR': 0.0004660391672988904,\n",
       " 'SP_DK': 0.00040101044628044065,\n",
       " 'SP_NH': 0.00041184856645018226,\n",
       " 'SP_LS': 0.0002276005235645744,\n",
       " 'SP_KM': 0.00023843864373431607,\n",
       " 'SP_AG': 0.00015173368237638292,\n",
       " 'SP_RG': 8.670496135793311e-05,\n",
       " 'SP_RK': 1.0838120169741639e-05,\n",
       " 'SP_GR': 0.0,\n",
       " 'LN_LH': 0.004483438518679084,\n",
       " 'LN_VB': 0.003513218338099328,\n",
       " 'LN_MV': 0.002961724761769783,\n",
       " 'LN_CL': 0.0028493834777026526,\n",
       " 'LN_SV': 0.0024510825614646476,\n",
       " 'LN_CS': 0.0010621357766346805,\n",
       " 'LN_PG': 0.0009702201805797563,\n",
       " 'LN_AA': 0.0010417100886224752,\n",
       " 'LN_DR': 0.0005514935763295456,\n",
       " 'LN_SP': 0.0005923449523539564,\n",
       " 'LN_LN': 0.000541280732323443,\n",
       " 'LN_KR': 0.000439152292262416,\n",
       " 'LN_DK': 0.00037787522822579987,\n",
       " 'LN_NH': 0.00038808807223190256,\n",
       " 'LN_LS': 0.00021446972412815667,\n",
       " 'LN_KM': 0.00022468256813425937,\n",
       " 'LN_AG': 0.00014297981608543775,\n",
       " 'LN_RG': 8.170275204882159e-05,\n",
       " 'LN_RK': 1.0212844006102698e-05,\n",
       " 'LN_GR': 0.0,\n",
       " 'KR_LH': 0.0039344460470040945,\n",
       " 'KR_VB': 0.003083028337515737,\n",
       " 'KR_MV': 0.002599064586859197,\n",
       " 'KR_CL': 0.002500479378392124,\n",
       " 'KR_SV': 0.0021509500029179562,\n",
       " 'KR_CS': 0.0009320783345977809,\n",
       " 'KR_PG': 0.0008514177094883576,\n",
       " 'KR_AA': 0.0009141537512401313,\n",
       " 'KR_DR': 0.0004839637506565401,\n",
       " 'KR_SP': 0.0005198129173718393,\n",
       " 'KR_LN': 0.00047500145897771533,\n",
       " 'KR_KR': 0.0003853785421894671,\n",
       " 'KR_DK': 0.00033160479211651826,\n",
       " 'KR_NH': 0.000340567083795343,\n",
       " 'KR_LS': 0.00018820812525532118,\n",
       " 'KR_KM': 0.000197170416934146,\n",
       " 'KR_AG': 0.00012547208350354743,\n",
       " 'KR_RG': 7.169833343059854e-05,\n",
       " 'KR_RK': 8.962291678824817e-06,\n",
       " 'KR_GR': 0.0,\n",
       " 'DK_LH': 0.0033854535753291043,\n",
       " 'DK_VB': 0.002652838336932145,\n",
       " 'DK_MV': 0.002236404411948611,\n",
       " 'DK_CL': 0.002151575279081595,\n",
       " 'DK_SV': 0.0018508174443712644,\n",
       " 'DK_CS': 0.0008020208925608812,\n",
       " 'DK_PG': 0.0007326152383969588,\n",
       " 'DK_AA': 0.0007865974138577874,\n",
       " 'DK_DR': 0.00041643392498353444,\n",
       " 'DK_SP': 0.0004472808823897222,\n",
       " 'DK_LN': 0.00040872218563198757,\n",
       " 'DK_KR': 0.00033160479211651815,\n",
       " 'DK_DK': 0.0002853343560072366,\n",
       " 'DK_NH': 0.0002930460953587835,\n",
       " 'DK_LS': 0.0001619465263824856,\n",
       " 'DK_KM': 0.00016965826573403256,\n",
       " 'DK_AG': 0.00010796435092165709,\n",
       " 'DK_RG': 6.169391481237548e-05,\n",
       " 'DK_RK': 7.711739351546935e-06,\n",
       " 'DK_GR': 0.0,\n",
       " 'NH_LH': 0.0033854535753291043,\n",
       " 'NH_VB': 0.002652838336932145,\n",
       " 'NH_MV': 0.002236404411948611,\n",
       " 'NH_CL': 0.002151575279081595,\n",
       " 'NH_SV': 0.0018508174443712644,\n",
       " 'NH_CS': 0.0008020208925608812,\n",
       " 'NH_PG': 0.0007326152383969588,\n",
       " 'NH_AA': 0.0007865974138577874,\n",
       " 'NH_DR': 0.00041643392498353444,\n",
       " 'NH_SP': 0.0004472808823897222,\n",
       " 'NH_LN': 0.00040872218563198757,\n",
       " 'NH_KR': 0.00033160479211651815,\n",
       " 'NH_DK': 0.0002853343560072366,\n",
       " 'NH_NH': 0.0002930460953587835,\n",
       " 'NH_LS': 0.0001619465263824856,\n",
       " 'NH_KM': 0.00016965826573403256,\n",
       " 'NH_AG': 0.00010796435092165709,\n",
       " 'NH_RG': 6.169391481237548e-05,\n",
       " 'NH_RK': 7.711739351546935e-06,\n",
       " 'NH_GR': 0.0,\n",
       " 'LS_LH': 0.0019214736508624645,\n",
       " 'LS_VB': 0.001505665002042569,\n",
       " 'LS_MV': 0.0012693106121870496,\n",
       " 'LS_CL': 0.001221164347586851,\n",
       " 'LS_SV': 0.0010504639549134202,\n",
       " 'LS_CS': 0.0004552010471291488,\n",
       " 'LS_PG': 0.00041580864881989553,\n",
       " 'LS_AA': 0.00044644718083820367,\n",
       " 'LS_DR': 0.00023635438985551956,\n",
       " 'LS_SP': 0.0002538621224374099,\n",
       " 'LS_LN': 0.000231977456710047,\n",
       " 'LS_KR': 0.00018820812525532113,\n",
       " 'LS_DK': 0.00016194652638248564,\n",
       " 'LS_NH': 0.0001663234595279582,\n",
       " 'LS_LS': 9.191559605492428e-05,\n",
       " 'LS_KM': 9.629252920039687e-05,\n",
       " 'LS_AG': 6.127706403661618e-05,\n",
       " 'LS_RG': 3.501546516378068e-05,\n",
       " 'LS_RK': 4.376933145472585e-06,\n",
       " 'LS_GR': 0.0,\n",
       " 'KM_LH': 0.0018299749055832996,\n",
       " 'KM_VB': 0.0014339666686119703,\n",
       " 'KM_MV': 0.0012088672497019518,\n",
       " 'KM_CL': 0.0011630136643684295,\n",
       " 'KM_SV': 0.001000441861822305,\n",
       " 'KM_CS': 0.0004335248067896655,\n",
       " 'KM_PG': 0.00039600823697132905,\n",
       " 'KM_AA': 0.00042518779127447963,\n",
       " 'KM_DR': 0.00022509941891001863,\n",
       " 'KM_SP': 0.00024177344994039037,\n",
       " 'KM_LN': 0.0002209309111524257,\n",
       " 'KM_KR': 0.0001792458335764963,\n",
       " 'KM_DK': 0.00015423478703093869,\n",
       " 'KM_NH': 0.0001584032947885316,\n",
       " 'KM_LS': 8.753866290945168e-05,\n",
       " 'KM_KM': 9.170717066704463e-05,\n",
       " 'KM_AG': 5.8359108606301125e-05,\n",
       " 'KM_RG': 3.33480620607435e-05,\n",
       " 'KM_RK': 4.1685077575929375e-06,\n",
       " 'KM_GR': 0.0,\n",
       " 'AG_LH': 0.0012809824339083096,\n",
       " 'AG_VB': 0.0010037766680283794,\n",
       " 'AG_MV': 0.0008462070747913665,\n",
       " 'AG_CL': 0.0008141095650579009,\n",
       " 'AG_SV': 0.0007003093032756136,\n",
       " 'AG_CS': 0.0003034673647527659,\n",
       " 'AG_PG': 0.00027720576587993037,\n",
       " 'AG_AA': 0.00029763145389213576,\n",
       " 'AG_DR': 0.00015756959323701304,\n",
       " 'AG_SP': 0.00016924141495827327,\n",
       " 'AG_LN': 0.000154651637806698,\n",
       " 'AG_KR': 0.00012547208350354743,\n",
       " 'AG_DK': 0.00010796435092165711,\n",
       " 'AG_NH': 0.00011088230635197215,\n",
       " 'AG_LS': 6.12770640366162e-05,\n",
       " 'AG_KM': 6.419501946693125e-05,\n",
       " 'AG_AG': 4.085137602441079e-05,\n",
       " 'AG_RG': 2.3343643442520456e-05,\n",
       " 'AG_RK': 2.917955430315057e-06,\n",
       " 'AG_GR': 0.0,\n",
       " 'RG_LH': 0.0007319899622333198,\n",
       " 'RG_VB': 0.0005735866674447882,\n",
       " 'RG_MV': 0.00048354689988078085,\n",
       " 'RG_CL': 0.0004652054657473719,\n",
       " 'RG_SV': 0.00040017674472892206,\n",
       " 'RG_CS': 0.0001734099227158662,\n",
       " 'RG_PG': 0.00015840329478853163,\n",
       " 'RG_AA': 0.00017007511650979186,\n",
       " 'RG_DR': 9.003976756400745e-05,\n",
       " 'RG_SP': 9.670937997615617e-05,\n",
       " 'RG_LN': 8.837236446097029e-05,\n",
       " 'RG_KR': 7.169833343059852e-05,\n",
       " 'RG_DK': 6.169391481237549e-05,\n",
       " 'RG_NH': 6.336131791541266e-05,\n",
       " 'RG_LS': 3.501546516378068e-05,\n",
       " 'RG_KM': 3.668286826681785e-05,\n",
       " 'RG_AG': 2.3343643442520453e-05,\n",
       " 'RG_RG': 1.3339224824297402e-05,\n",
       " 'RG_RK': 1.6674031030371753e-06,\n",
       " 'RG_GR': 0.0,\n",
       " 'RK_LH': 9.149874527916497e-05,\n",
       " 'RK_VB': 7.169833343059852e-05,\n",
       " 'RK_MV': 6.0443362485097606e-05,\n",
       " 'RK_CL': 5.8150683218421485e-05,\n",
       " 'RK_SV': 5.002209309111526e-05,\n",
       " 'RK_CS': 2.1676240339483274e-05,\n",
       " 'RK_PG': 1.9800411848566454e-05,\n",
       " 'RK_AA': 2.1259389563723982e-05,\n",
       " 'RK_DR': 1.1254970945500932e-05,\n",
       " 'RK_SP': 1.2088672497019521e-05,\n",
       " 'RK_LN': 1.1046545557621286e-05,\n",
       " 'RK_KR': 8.962291678824816e-06,\n",
       " 'RK_DK': 7.711739351546936e-06,\n",
       " 'RK_NH': 7.920164739426582e-06,\n",
       " 'RK_LS': 4.376933145472585e-06,\n",
       " 'RK_KM': 4.5853585333522314e-06,\n",
       " 'RK_AG': 2.9179554303150566e-06,\n",
       " 'RK_RG': 1.6674031030371753e-06,\n",
       " 'RK_RK': 2.084253878796469e-07,\n",
       " 'RK_GR': 0.0,\n",
       " 'GR_LH': 0.0,\n",
       " 'GR_VB': 0.0,\n",
       " 'GR_MV': 0.0,\n",
       " 'GR_CL': 0.0,\n",
       " 'GR_SV': 0.0,\n",
       " 'GR_CS': 0.0,\n",
       " 'GR_PG': 0.0,\n",
       " 'GR_AA': 0.0,\n",
       " 'GR_DR': 0.0,\n",
       " 'GR_SP': 0.0,\n",
       " 'GR_LN': 0.0,\n",
       " 'GR_KR': 0.0,\n",
       " 'GR_DK': 0.0,\n",
       " 'GR_NH': 0.0,\n",
       " 'GR_LS': 0.0,\n",
       " 'GR_KM': 0.0,\n",
       " 'GR_AG': 0.0,\n",
       " 'GR_RG': 0.0,\n",
       " 'GR_RK': 0.0,\n",
       " 'GR_GR': 0.0}"
      ]
     },
     "execution_count": 53,
     "metadata": {},
     "output_type": "execute_result"
    }
   ],
   "source": [
    "def joint(A, B, sep=''):\n",
    "    \"\"\"The joint distribution of two independent probability distributions. \n",
    "    Result is all entries of the form {a+sep+b: P(a)*P(b)}\"\"\"\n",
    "    return ProbDist({a + sep + b: A[a] * B[b]\n",
    "                    for a in A\n",
    "                    for b in B})\n",
    "\n",
    "J = joint(SGP, RGP, '_')\n",
    "J"
   ]
  },
  {
   "cell_type": "markdown",
   "metadata": {},
   "source": [
    "# MERCEDES"
   ]
  },
  {
   "cell_type": "markdown",
   "metadata": {},
   "source": [
    "## Q 1.2"
   ]
  },
  {
   "cell_type": "markdown",
   "metadata": {},
   "source": [
    "The probability for Mercedes to win both races"
   ]
  },
  {
   "cell_type": "code",
   "execution_count": 54,
   "metadata": {},
   "outputs": [],
   "source": [
    "def mercedes_both(outcome): return 'LH_VB' in outcome or 'VB_LH' in outcome or 'LH_LH' in outcome or 'VB_VB' in outcome"
   ]
  },
  {
   "cell_type": "code",
   "execution_count": 55,
   "metadata": {},
   "outputs": [
    {
     "data": {
      "text/plain": [
       "0.12060264116651521"
      ]
     },
     "execution_count": 55,
     "metadata": {},
     "output_type": "execute_result"
    }
   ],
   "source": [
    "p(mercedes_both, J)"
   ]
  },
  {
   "cell_type": "markdown",
   "metadata": {},
   "source": [
    "The probability for Mercedes to win atleast one race"
   ]
  },
  {
   "cell_type": "code",
   "execution_count": 56,
   "metadata": {},
   "outputs": [],
   "source": [
    "def mercedes_atleast_one(outcome): return 'LH' in outcome or 'VB' in outcome"
   ]
  },
  {
   "cell_type": "code",
   "execution_count": 57,
   "metadata": {},
   "outputs": [
    {
     "data": {
      "text/plain": [
       "0.5739662100761173"
      ]
     },
     "execution_count": 57,
     "metadata": {},
     "output_type": "execute_result"
    }
   ],
   "source": [
    "p(mercedes_atleast_one, J)"
   ]
  },
  {
   "cell_type": "markdown",
   "metadata": {},
   "source": [
    "If Mercedes wins the first race, the probability that Mercedes wins the next one"
   ]
  },
  {
   "cell_type": "code",
   "execution_count": 58,
   "metadata": {},
   "outputs": [],
   "source": [
    "def mercedes_first(outcome) : return outcome.startswith('LH') or outcome.startswith('VB')\n",
    "def mercedes_second(outcome) : return outcome.endswith('LH') or outcome.endswith('VB')"
   ]
  },
  {
   "cell_type": "code",
   "execution_count": 59,
   "metadata": {},
   "outputs": [
    {
     "data": {
      "text/plain": [
       "0.3492417484388938"
      ]
     },
     "execution_count": 59,
     "metadata": {},
     "output_type": "execute_result"
    }
   ],
   "source": [
    "p(mercedes_second, such_that(mercedes_first, J))"
   ]
  },
  {
   "cell_type": "markdown",
   "metadata": {},
   "source": [
    "If Mercedes wins at least one of these two races, the probability Mercedes wins both races"
   ]
  },
  {
   "cell_type": "code",
   "execution_count": 60,
   "metadata": {},
   "outputs": [],
   "source": [
    "def merc(outcome) : return outcome.startswith('LH') or outcome.startswith('VB') or outcome.endswith('LH') or outcome.endswith('VB')"
   ]
  },
  {
   "cell_type": "code",
   "execution_count": 61,
   "metadata": {},
   "outputs": [
    {
     "data": {
      "text/plain": [
       "0.5739662100761173"
      ]
     },
     "execution_count": 61,
     "metadata": {},
     "output_type": "execute_result"
    }
   ],
   "source": [
    "p(merc, J)"
   ]
  },
  {
   "cell_type": "code",
   "execution_count": 62,
   "metadata": {},
   "outputs": [],
   "source": [
    "def merc_one(outcome): return outcome.startswith(\"LH\") or outcome.startswith(\"VB\") or outcome.endswith(\"LH\") or outcome.endswith(\"VB\")\n",
    "\n",
    "def merc_both(outcome): return outcome.startswith(\"LH_VB\") or outcome.startswith(\"VB_LH\") or outcome.startswith(\"LH_LH\") or outcome.startswith(\"VB_VB\")"
   ]
  },
  {
   "cell_type": "code",
   "execution_count": 63,
   "metadata": {},
   "outputs": [
    {
     "data": {
      "text/plain": [
       "0.2101215002718041"
      ]
     },
     "execution_count": 63,
     "metadata": {},
     "output_type": "execute_result"
    }
   ],
   "source": [
    "p(merc_both, such_that(merc_one,J))"
   ]
  },
  {
   "cell_type": "markdown",
   "metadata": {},
   "source": [
    "# FERRARI"
   ]
  },
  {
   "cell_type": "markdown",
   "metadata": {},
   "source": [
    "The probability for Ferrari to win both races"
   ]
  },
  {
   "cell_type": "code",
   "execution_count": 64,
   "metadata": {},
   "outputs": [],
   "source": [
    "def ferrari_both(outcome): return 'CL_SV' in outcome or 'SV_CL' in outcome or 'CL_CL' in outcome or 'SV_SV' in outcome"
   ]
  },
  {
   "cell_type": "code",
   "execution_count": 65,
   "metadata": {},
   "outputs": [
    {
     "data": {
      "text/plain": [
       "0.02596146631428882"
      ]
     },
     "execution_count": 65,
     "metadata": {},
     "output_type": "execute_result"
    }
   ],
   "source": [
    "p(ferrari_both, J)"
   ]
  },
  {
   "cell_type": "markdown",
   "metadata": {},
   "source": [
    "The probability for Ferrari to win atleast one race"
   ]
  },
  {
   "cell_type": "code",
   "execution_count": 66,
   "metadata": {},
   "outputs": [],
   "source": [
    "def ferrari_atleast_one(outcome): return 'CL' in outcome or 'SV' in outcome"
   ]
  },
  {
   "cell_type": "code",
   "execution_count": 67,
   "metadata": {},
   "outputs": [
    {
     "data": {
      "text/plain": [
       "0.3176778076984004"
      ]
     },
     "execution_count": 67,
     "metadata": {},
     "output_type": "execute_result"
    }
   ],
   "source": [
    "p(ferrari_atleast_one, J)"
   ]
  },
  {
   "cell_type": "markdown",
   "metadata": {},
   "source": [
    "If Ferrari wins the first race, the probability that Ferrari wins the next one"
   ]
  },
  {
   "cell_type": "code",
   "execution_count": 68,
   "metadata": {},
   "outputs": [],
   "source": [
    "def ferrari_first(outcome) : return outcome.startswith('CL') or outcome.startswith('SV')\n",
    "def ferrari_second(outcome) : return outcome.endswith('CL') or outcome.endswith('SV')"
   ]
  },
  {
   "cell_type": "code",
   "execution_count": 69,
   "metadata": {},
   "outputs": [
    {
     "data": {
      "text/plain": [
       "0.23148974130240862"
      ]
     },
     "execution_count": 69,
     "metadata": {},
     "output_type": "execute_result"
    }
   ],
   "source": [
    "p(ferrari_second, such_that(ferrari_first, J))"
   ]
  },
  {
   "cell_type": "markdown",
   "metadata": {},
   "source": [
    "If Ferrari wins at least one of these two races, the probability Ferrari wins both races"
   ]
  },
  {
   "cell_type": "code",
   "execution_count": 70,
   "metadata": {},
   "outputs": [],
   "source": [
    "def ferrari_one(outcome): return outcome.startswith(\"CL\") or outcome.startswith(\"SV\") or outcome.endswith(\"CL\") or outcome.endswith(\"SV\")\n",
    "\n",
    "def ferrari_both(outcome): return outcome.startswith(\"CL_SV\") or outcome.startswith(\"SV_CL\") or outcome.startswith(\"SV_SV\") or outcome.startswith(\"CL_CL\")"
   ]
  },
  {
   "cell_type": "code",
   "execution_count": 71,
   "metadata": {},
   "outputs": [
    {
     "data": {
      "text/plain": [
       "0.08172263118529302"
      ]
     },
     "execution_count": 71,
     "metadata": {},
     "output_type": "execute_result"
    }
   ],
   "source": [
    "p(ferrari_both, such_that(ferrari_one,J))"
   ]
  },
  {
   "cell_type": "markdown",
   "metadata": {},
   "source": [
    "The probability for Alfa Romeo to win both races"
   ]
  },
  {
   "cell_type": "code",
   "execution_count": 72,
   "metadata": {},
   "outputs": [],
   "source": [
    "def alfa_romeo_both(outcome): return 'KR_AG' in outcome or 'AG_KR' in outcome or 'AG_AG' in outcome or 'KR_KR' in outcome"
   ]
  },
  {
   "cell_type": "code",
   "execution_count": 73,
   "metadata": {},
   "outputs": [
    {
     "data": {
      "text/plain": [
       "0.0006771740852209728"
      ]
     },
     "execution_count": 73,
     "metadata": {},
     "output_type": "execute_result"
    }
   ],
   "source": [
    "p(alfa_romeo_both, J)"
   ]
  },
  {
   "cell_type": "markdown",
   "metadata": {},
   "source": [
    "The probability for Alfa Romeo to win atleast one race"
   ]
  },
  {
   "cell_type": "code",
   "execution_count": 74,
   "metadata": {},
   "outputs": [],
   "source": [
    "def alfa_romeo_one(outcome): return 'KR' in outcome or 'AG' in outcome"
   ]
  },
  {
   "cell_type": "code",
   "execution_count": 75,
   "metadata": {},
   "outputs": [
    {
     "data": {
      "text/plain": [
       "0.05138206874702995"
      ]
     },
     "execution_count": 75,
     "metadata": {},
     "output_type": "execute_result"
    }
   ],
   "source": [
    "p(alfa_romeo_one, J)"
   ]
  },
  {
   "cell_type": "markdown",
   "metadata": {},
   "source": [
    "If Alfa Romeo wins the first race, the probability that Alpha Romeo wins the next one"
   ]
  },
  {
   "cell_type": "code",
   "execution_count": 76,
   "metadata": {},
   "outputs": [],
   "source": [
    "def alfa_romeo_first(outcome) : return outcome.startswith('KR') or outcome.startswith('AG')\n",
    "def alfa_romeo_second(outcome) : return outcome.endswith('KR') or outcome.endswith('AG')"
   ]
  },
  {
   "cell_type": "code",
   "execution_count": 77,
   "metadata": {},
   "outputs": [
    {
     "data": {
      "text/plain": [
       "0.025423728813559327"
      ]
     },
     "execution_count": 77,
     "metadata": {},
     "output_type": "execute_result"
    }
   ],
   "source": [
    "p(alfa_romeo_second, such_that(alfa_romeo_first, J))"
   ]
  },
  {
   "cell_type": "markdown",
   "metadata": {},
   "source": [
    "If Alfa Romeo wins at least one of these two races, the probability Alfa Romeo wins both races"
   ]
  },
  {
   "cell_type": "code",
   "execution_count": 78,
   "metadata": {},
   "outputs": [],
   "source": [
    "def alfa_romeo_one(outcome): return outcome.startswith(\"KR\") or outcome.startswith(\"AG\") or outcome.endswith(\"KR\") or outcome.endswith(\"AG\")\n",
    "\n",
    "def alfa_romeo_both(outcome): return outcome.startswith(\"KR_AG\") or outcome.startswith(\"AG_KR\") or outcome.startswith(\"KR_KR\") or outcome.startswith(\"AG_AG\")"
   ]
  },
  {
   "cell_type": "code",
   "execution_count": 79,
   "metadata": {},
   "outputs": [
    {
     "data": {
      "text/plain": [
       "0.013179190751445089"
      ]
     },
     "execution_count": 79,
     "metadata": {},
     "output_type": "execute_result"
    }
   ],
   "source": [
    "p(alfa_romeo_both, such_that(alfa_romeo_one,J))"
   ]
  },
  {
   "cell_type": "markdown",
   "metadata": {},
   "source": [
    "# McLaren"
   ]
  },
  {
   "cell_type": "markdown",
   "metadata": {},
   "source": [
    "The probability for McLaren to win both races"
   ]
  },
  {
   "cell_type": "code",
   "execution_count": 80,
   "metadata": {},
   "outputs": [],
   "source": [
    "def mclaren_both(outcome): return 'CS_LN' in outcome or 'LN_CS' in outcome or 'LN_LN' in outcome or 'CS_CS' in outcome"
   ]
  },
  {
   "cell_type": "code",
   "execution_count": 81,
   "metadata": {},
   "outputs": [
    {
     "data": {
      "text/plain": [
       "0.004744803955080161"
      ]
     },
     "execution_count": 81,
     "metadata": {},
     "output_type": "execute_result"
    }
   ],
   "source": [
    "p(mclaren_both, J)"
   ]
  },
  {
   "cell_type": "markdown",
   "metadata": {},
   "source": [
    "The probability for McLaren to win atleast one race"
   ]
  },
  {
   "cell_type": "code",
   "execution_count": 82,
   "metadata": {},
   "outputs": [],
   "source": [
    "def mclaren_one(outcome): return 'CS' in outcome or 'LN' in outcome"
   ]
  },
  {
   "cell_type": "code",
   "execution_count": 83,
   "metadata": {},
   "outputs": [
    {
     "data": {
      "text/plain": [
       "0.13303896721051797"
      ]
     },
     "execution_count": 83,
     "metadata": {},
     "output_type": "execute_result"
    }
   ],
   "source": [
    "p(mclaren_one, J)"
   ]
  },
  {
   "cell_type": "markdown",
   "metadata": {},
   "source": [
    "If McLaren wins the first race, the probability that McLaren wins the next one"
   ]
  },
  {
   "cell_type": "code",
   "execution_count": 84,
   "metadata": {},
   "outputs": [],
   "source": [
    "def mclaren_first(outcome) : return outcome.startswith('CS') or outcome.startswith('LN')\n",
    "def mclaren_second(outcome) : return outcome.endswith('CS') or outcome.endswith('LN')"
   ]
  },
  {
   "cell_type": "code",
   "execution_count": 85,
   "metadata": {},
   "outputs": [
    {
     "data": {
      "text/plain": [
       "0.07002676181980376"
      ]
     },
     "execution_count": 85,
     "metadata": {},
     "output_type": "execute_result"
    }
   ],
   "source": [
    "p(mclaren_second, such_that(mclaren_first, J))"
   ]
  },
  {
   "cell_type": "markdown",
   "metadata": {},
   "source": [
    "If McLaren wins at least one of these two races, the probability McLaren wins both races"
   ]
  },
  {
   "cell_type": "code",
   "execution_count": 86,
   "metadata": {},
   "outputs": [],
   "source": [
    "def mclaren_one(outcome): return outcome.startswith(\"CS\") or outcome.startswith(\"LN\") or outcome.endswith(\"CS\") or outcome.endswith(\"LN\")\n",
    "\n",
    "def mclaren_both(outcome): return outcome.startswith(\"CS_LN\") or outcome.startswith(\"LN_CS\") or outcome.startswith(\"CS_CS\") or outcome.startswith(\"LN_LN\")"
   ]
  },
  {
   "cell_type": "code",
   "execution_count": 87,
   "metadata": {},
   "outputs": [
    {
     "data": {
      "text/plain": [
       "0.035664768410086096"
      ]
     },
     "execution_count": 87,
     "metadata": {},
     "output_type": "execute_result"
    }
   ],
   "source": [
    "p(mclaren_both, such_that(mclaren_one,J))"
   ]
  },
  {
   "cell_type": "markdown",
   "metadata": {},
   "source": [
    "# Q 1.3 : Weather Conditions"
   ]
  },
  {
   "cell_type": "markdown",
   "metadata": {},
   "source": [
    "Considering equiprobable weather conditions"
   ]
  },
  {
   "cell_type": "code",
   "execution_count": 88,
   "metadata": {},
   "outputs": [],
   "source": [
    "Weather = ProbDist(Rain=0.2, Sun=0.2, Clouds=0.2, Snow=0.2, fog=0.2)"
   ]
  },
  {
   "cell_type": "markdown",
   "metadata": {},
   "source": [
    "Joint Probability Distribution for the Singapore Grand Prix, Russian Grand Prix and Weather Conditions "
   ]
  },
  {
   "cell_type": "code",
   "execution_count": 89,
   "metadata": {},
   "outputs": [
    {
     "data": {
      "text/plain": [
       "{'LH_Rain_LH_Rain': 0.001511559272011807,\n",
       " 'LH_Rain_LH_Sun': 0.001511559272011807,\n",
       " 'LH_Rain_LH_Clouds': 0.001511559272011807,\n",
       " 'LH_Rain_LH_Snow': 0.001511559272011807,\n",
       " 'LH_Rain_LH_fog': 0.001511559272011807,\n",
       " 'LH_Rain_VB_Rain': 0.0011844564682734887,\n",
       " 'LH_Rain_VB_Sun': 0.0011844564682734887,\n",
       " 'LH_Rain_VB_Clouds': 0.0011844564682734887,\n",
       " 'LH_Rain_VB_Snow': 0.0011844564682734887,\n",
       " 'LH_Rain_VB_fog': 0.0011844564682734887,\n",
       " 'LH_Rain_MV_Rain': 0.0009985243482538136,\n",
       " 'LH_Rain_MV_Sun': 0.0009985243482538136,\n",
       " 'LH_Rain_MV_Clouds': 0.0009985243482538136,\n",
       " 'LH_Rain_MV_Snow': 0.0009985243482538136,\n",
       " 'LH_Rain_MV_fog': 0.0009985243482538136,\n",
       " 'LH_Rain_CL_Rain': 0.0009606492867683239,\n",
       " 'LH_Rain_CL_Sun': 0.0009606492867683239,\n",
       " 'LH_Rain_CL_Clouds': 0.0009606492867683239,\n",
       " 'LH_Rain_CL_Snow': 0.0009606492867683239,\n",
       " 'LH_Rain_CL_fog': 0.0009606492867683239,\n",
       " 'LH_Rain_SV_Rain': 0.0008263649778652249,\n",
       " 'LH_Rain_SV_Sun': 0.0008263649778652249,\n",
       " 'LH_Rain_SV_Clouds': 0.0008263649778652249,\n",
       " 'LH_Rain_SV_Snow': 0.0008263649778652249,\n",
       " 'LH_Rain_SV_fog': 0.0008263649778652249,\n",
       " 'LH_Rain_CS_Rain': 0.00035809149040826407,\n",
       " 'LH_Rain_CS_Sun': 0.00035809149040826407,\n",
       " 'LH_Rain_CS_Clouds': 0.00035809149040826407,\n",
       " 'LH_Rain_CS_Snow': 0.00035809149040826407,\n",
       " 'LH_Rain_CS_fog': 0.00035809149040826407,\n",
       " 'LH_Rain_PG_Rain': 0.0003271028037383181,\n",
       " 'LH_Rain_PG_Sun': 0.0003271028037383181,\n",
       " 'LH_Rain_PG_Clouds': 0.0003271028037383181,\n",
       " 'LH_Rain_PG_Snow': 0.0003271028037383181,\n",
       " 'LH_Rain_PG_fog': 0.0003271028037383181,\n",
       " 'LH_Rain_AA_Rain': 0.0003512051155927205,\n",
       " 'LH_Rain_AA_Sun': 0.0003512051155927205,\n",
       " 'LH_Rain_AA_Clouds': 0.0003512051155927205,\n",
       " 'LH_Rain_AA_Snow': 0.0003512051155927205,\n",
       " 'LH_Rain_AA_fog': 0.0003512051155927205,\n",
       " 'LH_Rain_DR_Rain': 0.00018593212001967558,\n",
       " 'LH_Rain_DR_Sun': 0.00018593212001967558,\n",
       " 'LH_Rain_DR_Clouds': 0.00018593212001967558,\n",
       " 'LH_Rain_DR_Snow': 0.00018593212001967558,\n",
       " 'LH_Rain_DR_fog': 0.00018593212001967558,\n",
       " 'LH_Rain_SP_Rain': 0.00019970486965076266,\n",
       " 'LH_Rain_SP_Sun': 0.00019970486965076266,\n",
       " 'LH_Rain_SP_Clouds': 0.00019970486965076266,\n",
       " 'LH_Rain_SP_Snow': 0.00019970486965076266,\n",
       " 'LH_Rain_SP_fog': 0.00019970486965076266,\n",
       " 'LH_Rain_LN_Rain': 0.00018248893261190382,\n",
       " 'LH_Rain_LN_Sun': 0.00018248893261190382,\n",
       " 'LH_Rain_LN_Clouds': 0.00018248893261190382,\n",
       " 'LH_Rain_LN_Snow': 0.00018248893261190382,\n",
       " 'LH_Rain_LN_fog': 0.00018248893261190382,\n",
       " 'LH_Rain_KR_Rain': 0.0001480570585341861,\n",
       " 'LH_Rain_KR_Sun': 0.0001480570585341861,\n",
       " 'LH_Rain_KR_Clouds': 0.0001480570585341861,\n",
       " 'LH_Rain_KR_Snow': 0.0001480570585341861,\n",
       " 'LH_Rain_KR_fog': 0.0001480570585341861,\n",
       " 'LH_Rain_DK_Rain': 0.0001273979340875555,\n",
       " 'LH_Rain_DK_Sun': 0.0001273979340875555,\n",
       " 'LH_Rain_DK_Clouds': 0.0001273979340875555,\n",
       " 'LH_Rain_DK_Snow': 0.0001273979340875555,\n",
       " 'LH_Rain_DK_fog': 0.0001273979340875555,\n",
       " 'LH_Rain_NH_Rain': 0.00013084112149532726,\n",
       " 'LH_Rain_NH_Sun': 0.00013084112149532726,\n",
       " 'LH_Rain_NH_Clouds': 0.00013084112149532726,\n",
       " 'LH_Rain_NH_Snow': 0.00013084112149532726,\n",
       " 'LH_Rain_NH_fog': 0.00013084112149532726,\n",
       " 'LH_Rain_LS_Rain': 7.230693556320715e-05,\n",
       " 'LH_Rain_LS_Sun': 7.230693556320715e-05,\n",
       " 'LH_Rain_LS_Clouds': 7.230693556320715e-05,\n",
       " 'LH_Rain_LS_Snow': 7.230693556320715e-05,\n",
       " 'LH_Rain_LS_fog': 7.230693556320715e-05,\n",
       " 'LH_Rain_KM_Rain': 7.575012297097895e-05,\n",
       " 'LH_Rain_KM_Sun': 7.575012297097895e-05,\n",
       " 'LH_Rain_KM_Clouds': 7.575012297097895e-05,\n",
       " 'LH_Rain_KM_Snow': 7.575012297097895e-05,\n",
       " 'LH_Rain_KM_fog': 7.575012297097895e-05,\n",
       " 'LH_Rain_AG_Rain': 4.820462370880478e-05,\n",
       " 'LH_Rain_AG_Sun': 4.820462370880478e-05,\n",
       " 'LH_Rain_AG_Clouds': 4.820462370880478e-05,\n",
       " 'LH_Rain_AG_Snow': 4.820462370880478e-05,\n",
       " 'LH_Rain_AG_fog': 4.820462370880478e-05,\n",
       " 'LH_Rain_RG_Rain': 2.754549926217416e-05,\n",
       " 'LH_Rain_RG_Sun': 2.754549926217416e-05,\n",
       " 'LH_Rain_RG_Clouds': 2.754549926217416e-05,\n",
       " 'LH_Rain_RG_Snow': 2.754549926217416e-05,\n",
       " 'LH_Rain_RG_fog': 2.754549926217416e-05,\n",
       " 'LH_Rain_RK_Rain': 3.44318740777177e-06,\n",
       " 'LH_Rain_RK_Sun': 3.44318740777177e-06,\n",
       " 'LH_Rain_RK_Clouds': 3.44318740777177e-06,\n",
       " 'LH_Rain_RK_Snow': 3.44318740777177e-06,\n",
       " 'LH_Rain_RK_fog': 3.44318740777177e-06,\n",
       " 'LH_Rain_GR_Rain': 0.0,\n",
       " 'LH_Rain_GR_Sun': 0.0,\n",
       " 'LH_Rain_GR_Clouds': 0.0,\n",
       " 'LH_Rain_GR_Snow': 0.0,\n",
       " 'LH_Rain_GR_fog': 0.0,\n",
       " 'LH_Sun_LH_Rain': 0.001511559272011807,\n",
       " 'LH_Sun_LH_Sun': 0.001511559272011807,\n",
       " 'LH_Sun_LH_Clouds': 0.001511559272011807,\n",
       " 'LH_Sun_LH_Snow': 0.001511559272011807,\n",
       " 'LH_Sun_LH_fog': 0.001511559272011807,\n",
       " 'LH_Sun_VB_Rain': 0.0011844564682734887,\n",
       " 'LH_Sun_VB_Sun': 0.0011844564682734887,\n",
       " 'LH_Sun_VB_Clouds': 0.0011844564682734887,\n",
       " 'LH_Sun_VB_Snow': 0.0011844564682734887,\n",
       " 'LH_Sun_VB_fog': 0.0011844564682734887,\n",
       " 'LH_Sun_MV_Rain': 0.0009985243482538136,\n",
       " 'LH_Sun_MV_Sun': 0.0009985243482538136,\n",
       " 'LH_Sun_MV_Clouds': 0.0009985243482538136,\n",
       " 'LH_Sun_MV_Snow': 0.0009985243482538136,\n",
       " 'LH_Sun_MV_fog': 0.0009985243482538136,\n",
       " 'LH_Sun_CL_Rain': 0.0009606492867683239,\n",
       " 'LH_Sun_CL_Sun': 0.0009606492867683239,\n",
       " 'LH_Sun_CL_Clouds': 0.0009606492867683239,\n",
       " 'LH_Sun_CL_Snow': 0.0009606492867683239,\n",
       " 'LH_Sun_CL_fog': 0.0009606492867683239,\n",
       " 'LH_Sun_SV_Rain': 0.0008263649778652249,\n",
       " 'LH_Sun_SV_Sun': 0.0008263649778652249,\n",
       " 'LH_Sun_SV_Clouds': 0.0008263649778652249,\n",
       " 'LH_Sun_SV_Snow': 0.0008263649778652249,\n",
       " 'LH_Sun_SV_fog': 0.0008263649778652249,\n",
       " 'LH_Sun_CS_Rain': 0.00035809149040826407,\n",
       " 'LH_Sun_CS_Sun': 0.00035809149040826407,\n",
       " 'LH_Sun_CS_Clouds': 0.00035809149040826407,\n",
       " 'LH_Sun_CS_Snow': 0.00035809149040826407,\n",
       " 'LH_Sun_CS_fog': 0.00035809149040826407,\n",
       " 'LH_Sun_PG_Rain': 0.0003271028037383181,\n",
       " 'LH_Sun_PG_Sun': 0.0003271028037383181,\n",
       " 'LH_Sun_PG_Clouds': 0.0003271028037383181,\n",
       " 'LH_Sun_PG_Snow': 0.0003271028037383181,\n",
       " 'LH_Sun_PG_fog': 0.0003271028037383181,\n",
       " 'LH_Sun_AA_Rain': 0.0003512051155927205,\n",
       " 'LH_Sun_AA_Sun': 0.0003512051155927205,\n",
       " 'LH_Sun_AA_Clouds': 0.0003512051155927205,\n",
       " 'LH_Sun_AA_Snow': 0.0003512051155927205,\n",
       " 'LH_Sun_AA_fog': 0.0003512051155927205,\n",
       " 'LH_Sun_DR_Rain': 0.00018593212001967558,\n",
       " 'LH_Sun_DR_Sun': 0.00018593212001967558,\n",
       " 'LH_Sun_DR_Clouds': 0.00018593212001967558,\n",
       " 'LH_Sun_DR_Snow': 0.00018593212001967558,\n",
       " 'LH_Sun_DR_fog': 0.00018593212001967558,\n",
       " 'LH_Sun_SP_Rain': 0.00019970486965076266,\n",
       " 'LH_Sun_SP_Sun': 0.00019970486965076266,\n",
       " 'LH_Sun_SP_Clouds': 0.00019970486965076266,\n",
       " 'LH_Sun_SP_Snow': 0.00019970486965076266,\n",
       " 'LH_Sun_SP_fog': 0.00019970486965076266,\n",
       " 'LH_Sun_LN_Rain': 0.00018248893261190382,\n",
       " 'LH_Sun_LN_Sun': 0.00018248893261190382,\n",
       " 'LH_Sun_LN_Clouds': 0.00018248893261190382,\n",
       " 'LH_Sun_LN_Snow': 0.00018248893261190382,\n",
       " 'LH_Sun_LN_fog': 0.00018248893261190382,\n",
       " 'LH_Sun_KR_Rain': 0.0001480570585341861,\n",
       " 'LH_Sun_KR_Sun': 0.0001480570585341861,\n",
       " 'LH_Sun_KR_Clouds': 0.0001480570585341861,\n",
       " 'LH_Sun_KR_Snow': 0.0001480570585341861,\n",
       " 'LH_Sun_KR_fog': 0.0001480570585341861,\n",
       " 'LH_Sun_DK_Rain': 0.0001273979340875555,\n",
       " 'LH_Sun_DK_Sun': 0.0001273979340875555,\n",
       " 'LH_Sun_DK_Clouds': 0.0001273979340875555,\n",
       " 'LH_Sun_DK_Snow': 0.0001273979340875555,\n",
       " 'LH_Sun_DK_fog': 0.0001273979340875555,\n",
       " 'LH_Sun_NH_Rain': 0.00013084112149532726,\n",
       " 'LH_Sun_NH_Sun': 0.00013084112149532726,\n",
       " 'LH_Sun_NH_Clouds': 0.00013084112149532726,\n",
       " 'LH_Sun_NH_Snow': 0.00013084112149532726,\n",
       " 'LH_Sun_NH_fog': 0.00013084112149532726,\n",
       " 'LH_Sun_LS_Rain': 7.230693556320715e-05,\n",
       " 'LH_Sun_LS_Sun': 7.230693556320715e-05,\n",
       " 'LH_Sun_LS_Clouds': 7.230693556320715e-05,\n",
       " 'LH_Sun_LS_Snow': 7.230693556320715e-05,\n",
       " 'LH_Sun_LS_fog': 7.230693556320715e-05,\n",
       " 'LH_Sun_KM_Rain': 7.575012297097895e-05,\n",
       " 'LH_Sun_KM_Sun': 7.575012297097895e-05,\n",
       " 'LH_Sun_KM_Clouds': 7.575012297097895e-05,\n",
       " 'LH_Sun_KM_Snow': 7.575012297097895e-05,\n",
       " 'LH_Sun_KM_fog': 7.575012297097895e-05,\n",
       " 'LH_Sun_AG_Rain': 4.820462370880478e-05,\n",
       " 'LH_Sun_AG_Sun': 4.820462370880478e-05,\n",
       " 'LH_Sun_AG_Clouds': 4.820462370880478e-05,\n",
       " 'LH_Sun_AG_Snow': 4.820462370880478e-05,\n",
       " 'LH_Sun_AG_fog': 4.820462370880478e-05,\n",
       " 'LH_Sun_RG_Rain': 2.754549926217416e-05,\n",
       " 'LH_Sun_RG_Sun': 2.754549926217416e-05,\n",
       " 'LH_Sun_RG_Clouds': 2.754549926217416e-05,\n",
       " 'LH_Sun_RG_Snow': 2.754549926217416e-05,\n",
       " 'LH_Sun_RG_fog': 2.754549926217416e-05,\n",
       " 'LH_Sun_RK_Rain': 3.44318740777177e-06,\n",
       " 'LH_Sun_RK_Sun': 3.44318740777177e-06,\n",
       " 'LH_Sun_RK_Clouds': 3.44318740777177e-06,\n",
       " 'LH_Sun_RK_Snow': 3.44318740777177e-06,\n",
       " 'LH_Sun_RK_fog': 3.44318740777177e-06,\n",
       " 'LH_Sun_GR_Rain': 0.0,\n",
       " 'LH_Sun_GR_Sun': 0.0,\n",
       " 'LH_Sun_GR_Clouds': 0.0,\n",
       " 'LH_Sun_GR_Snow': 0.0,\n",
       " 'LH_Sun_GR_fog': 0.0,\n",
       " 'LH_Clouds_LH_Rain': 0.001511559272011807,\n",
       " 'LH_Clouds_LH_Sun': 0.001511559272011807,\n",
       " 'LH_Clouds_LH_Clouds': 0.001511559272011807,\n",
       " 'LH_Clouds_LH_Snow': 0.001511559272011807,\n",
       " 'LH_Clouds_LH_fog': 0.001511559272011807,\n",
       " 'LH_Clouds_VB_Rain': 0.0011844564682734887,\n",
       " 'LH_Clouds_VB_Sun': 0.0011844564682734887,\n",
       " 'LH_Clouds_VB_Clouds': 0.0011844564682734887,\n",
       " 'LH_Clouds_VB_Snow': 0.0011844564682734887,\n",
       " 'LH_Clouds_VB_fog': 0.0011844564682734887,\n",
       " 'LH_Clouds_MV_Rain': 0.0009985243482538136,\n",
       " 'LH_Clouds_MV_Sun': 0.0009985243482538136,\n",
       " 'LH_Clouds_MV_Clouds': 0.0009985243482538136,\n",
       " 'LH_Clouds_MV_Snow': 0.0009985243482538136,\n",
       " 'LH_Clouds_MV_fog': 0.0009985243482538136,\n",
       " 'LH_Clouds_CL_Rain': 0.0009606492867683239,\n",
       " 'LH_Clouds_CL_Sun': 0.0009606492867683239,\n",
       " 'LH_Clouds_CL_Clouds': 0.0009606492867683239,\n",
       " 'LH_Clouds_CL_Snow': 0.0009606492867683239,\n",
       " 'LH_Clouds_CL_fog': 0.0009606492867683239,\n",
       " 'LH_Clouds_SV_Rain': 0.0008263649778652249,\n",
       " 'LH_Clouds_SV_Sun': 0.0008263649778652249,\n",
       " 'LH_Clouds_SV_Clouds': 0.0008263649778652249,\n",
       " 'LH_Clouds_SV_Snow': 0.0008263649778652249,\n",
       " 'LH_Clouds_SV_fog': 0.0008263649778652249,\n",
       " 'LH_Clouds_CS_Rain': 0.00035809149040826407,\n",
       " 'LH_Clouds_CS_Sun': 0.00035809149040826407,\n",
       " 'LH_Clouds_CS_Clouds': 0.00035809149040826407,\n",
       " 'LH_Clouds_CS_Snow': 0.00035809149040826407,\n",
       " 'LH_Clouds_CS_fog': 0.00035809149040826407,\n",
       " 'LH_Clouds_PG_Rain': 0.0003271028037383181,\n",
       " 'LH_Clouds_PG_Sun': 0.0003271028037383181,\n",
       " 'LH_Clouds_PG_Clouds': 0.0003271028037383181,\n",
       " 'LH_Clouds_PG_Snow': 0.0003271028037383181,\n",
       " 'LH_Clouds_PG_fog': 0.0003271028037383181,\n",
       " 'LH_Clouds_AA_Rain': 0.0003512051155927205,\n",
       " 'LH_Clouds_AA_Sun': 0.0003512051155927205,\n",
       " 'LH_Clouds_AA_Clouds': 0.0003512051155927205,\n",
       " 'LH_Clouds_AA_Snow': 0.0003512051155927205,\n",
       " 'LH_Clouds_AA_fog': 0.0003512051155927205,\n",
       " 'LH_Clouds_DR_Rain': 0.00018593212001967558,\n",
       " 'LH_Clouds_DR_Sun': 0.00018593212001967558,\n",
       " 'LH_Clouds_DR_Clouds': 0.00018593212001967558,\n",
       " 'LH_Clouds_DR_Snow': 0.00018593212001967558,\n",
       " 'LH_Clouds_DR_fog': 0.00018593212001967558,\n",
       " 'LH_Clouds_SP_Rain': 0.00019970486965076266,\n",
       " 'LH_Clouds_SP_Sun': 0.00019970486965076266,\n",
       " 'LH_Clouds_SP_Clouds': 0.00019970486965076266,\n",
       " 'LH_Clouds_SP_Snow': 0.00019970486965076266,\n",
       " 'LH_Clouds_SP_fog': 0.00019970486965076266,\n",
       " 'LH_Clouds_LN_Rain': 0.00018248893261190382,\n",
       " 'LH_Clouds_LN_Sun': 0.00018248893261190382,\n",
       " 'LH_Clouds_LN_Clouds': 0.00018248893261190382,\n",
       " 'LH_Clouds_LN_Snow': 0.00018248893261190382,\n",
       " 'LH_Clouds_LN_fog': 0.00018248893261190382,\n",
       " 'LH_Clouds_KR_Rain': 0.0001480570585341861,\n",
       " 'LH_Clouds_KR_Sun': 0.0001480570585341861,\n",
       " 'LH_Clouds_KR_Clouds': 0.0001480570585341861,\n",
       " 'LH_Clouds_KR_Snow': 0.0001480570585341861,\n",
       " 'LH_Clouds_KR_fog': 0.0001480570585341861,\n",
       " 'LH_Clouds_DK_Rain': 0.0001273979340875555,\n",
       " 'LH_Clouds_DK_Sun': 0.0001273979340875555,\n",
       " 'LH_Clouds_DK_Clouds': 0.0001273979340875555,\n",
       " 'LH_Clouds_DK_Snow': 0.0001273979340875555,\n",
       " 'LH_Clouds_DK_fog': 0.0001273979340875555,\n",
       " 'LH_Clouds_NH_Rain': 0.00013084112149532726,\n",
       " 'LH_Clouds_NH_Sun': 0.00013084112149532726,\n",
       " 'LH_Clouds_NH_Clouds': 0.00013084112149532726,\n",
       " 'LH_Clouds_NH_Snow': 0.00013084112149532726,\n",
       " 'LH_Clouds_NH_fog': 0.00013084112149532726,\n",
       " 'LH_Clouds_LS_Rain': 7.230693556320715e-05,\n",
       " 'LH_Clouds_LS_Sun': 7.230693556320715e-05,\n",
       " 'LH_Clouds_LS_Clouds': 7.230693556320715e-05,\n",
       " 'LH_Clouds_LS_Snow': 7.230693556320715e-05,\n",
       " 'LH_Clouds_LS_fog': 7.230693556320715e-05,\n",
       " 'LH_Clouds_KM_Rain': 7.575012297097895e-05,\n",
       " 'LH_Clouds_KM_Sun': 7.575012297097895e-05,\n",
       " 'LH_Clouds_KM_Clouds': 7.575012297097895e-05,\n",
       " 'LH_Clouds_KM_Snow': 7.575012297097895e-05,\n",
       " 'LH_Clouds_KM_fog': 7.575012297097895e-05,\n",
       " 'LH_Clouds_AG_Rain': 4.820462370880478e-05,\n",
       " 'LH_Clouds_AG_Sun': 4.820462370880478e-05,\n",
       " 'LH_Clouds_AG_Clouds': 4.820462370880478e-05,\n",
       " 'LH_Clouds_AG_Snow': 4.820462370880478e-05,\n",
       " 'LH_Clouds_AG_fog': 4.820462370880478e-05,\n",
       " 'LH_Clouds_RG_Rain': 2.754549926217416e-05,\n",
       " 'LH_Clouds_RG_Sun': 2.754549926217416e-05,\n",
       " 'LH_Clouds_RG_Clouds': 2.754549926217416e-05,\n",
       " 'LH_Clouds_RG_Snow': 2.754549926217416e-05,\n",
       " 'LH_Clouds_RG_fog': 2.754549926217416e-05,\n",
       " 'LH_Clouds_RK_Rain': 3.44318740777177e-06,\n",
       " 'LH_Clouds_RK_Sun': 3.44318740777177e-06,\n",
       " 'LH_Clouds_RK_Clouds': 3.44318740777177e-06,\n",
       " 'LH_Clouds_RK_Snow': 3.44318740777177e-06,\n",
       " 'LH_Clouds_RK_fog': 3.44318740777177e-06,\n",
       " 'LH_Clouds_GR_Rain': 0.0,\n",
       " 'LH_Clouds_GR_Sun': 0.0,\n",
       " 'LH_Clouds_GR_Clouds': 0.0,\n",
       " 'LH_Clouds_GR_Snow': 0.0,\n",
       " 'LH_Clouds_GR_fog': 0.0,\n",
       " 'LH_Snow_LH_Rain': 0.001511559272011807,\n",
       " 'LH_Snow_LH_Sun': 0.001511559272011807,\n",
       " 'LH_Snow_LH_Clouds': 0.001511559272011807,\n",
       " 'LH_Snow_LH_Snow': 0.001511559272011807,\n",
       " 'LH_Snow_LH_fog': 0.001511559272011807,\n",
       " 'LH_Snow_VB_Rain': 0.0011844564682734887,\n",
       " 'LH_Snow_VB_Sun': 0.0011844564682734887,\n",
       " 'LH_Snow_VB_Clouds': 0.0011844564682734887,\n",
       " 'LH_Snow_VB_Snow': 0.0011844564682734887,\n",
       " 'LH_Snow_VB_fog': 0.0011844564682734887,\n",
       " 'LH_Snow_MV_Rain': 0.0009985243482538136,\n",
       " 'LH_Snow_MV_Sun': 0.0009985243482538136,\n",
       " 'LH_Snow_MV_Clouds': 0.0009985243482538136,\n",
       " 'LH_Snow_MV_Snow': 0.0009985243482538136,\n",
       " 'LH_Snow_MV_fog': 0.0009985243482538136,\n",
       " 'LH_Snow_CL_Rain': 0.0009606492867683239,\n",
       " 'LH_Snow_CL_Sun': 0.0009606492867683239,\n",
       " 'LH_Snow_CL_Clouds': 0.0009606492867683239,\n",
       " 'LH_Snow_CL_Snow': 0.0009606492867683239,\n",
       " 'LH_Snow_CL_fog': 0.0009606492867683239,\n",
       " 'LH_Snow_SV_Rain': 0.0008263649778652249,\n",
       " 'LH_Snow_SV_Sun': 0.0008263649778652249,\n",
       " 'LH_Snow_SV_Clouds': 0.0008263649778652249,\n",
       " 'LH_Snow_SV_Snow': 0.0008263649778652249,\n",
       " 'LH_Snow_SV_fog': 0.0008263649778652249,\n",
       " 'LH_Snow_CS_Rain': 0.00035809149040826407,\n",
       " 'LH_Snow_CS_Sun': 0.00035809149040826407,\n",
       " 'LH_Snow_CS_Clouds': 0.00035809149040826407,\n",
       " 'LH_Snow_CS_Snow': 0.00035809149040826407,\n",
       " 'LH_Snow_CS_fog': 0.00035809149040826407,\n",
       " 'LH_Snow_PG_Rain': 0.0003271028037383181,\n",
       " 'LH_Snow_PG_Sun': 0.0003271028037383181,\n",
       " 'LH_Snow_PG_Clouds': 0.0003271028037383181,\n",
       " 'LH_Snow_PG_Snow': 0.0003271028037383181,\n",
       " 'LH_Snow_PG_fog': 0.0003271028037383181,\n",
       " 'LH_Snow_AA_Rain': 0.0003512051155927205,\n",
       " 'LH_Snow_AA_Sun': 0.0003512051155927205,\n",
       " 'LH_Snow_AA_Clouds': 0.0003512051155927205,\n",
       " 'LH_Snow_AA_Snow': 0.0003512051155927205,\n",
       " 'LH_Snow_AA_fog': 0.0003512051155927205,\n",
       " 'LH_Snow_DR_Rain': 0.00018593212001967558,\n",
       " 'LH_Snow_DR_Sun': 0.00018593212001967558,\n",
       " 'LH_Snow_DR_Clouds': 0.00018593212001967558,\n",
       " 'LH_Snow_DR_Snow': 0.00018593212001967558,\n",
       " 'LH_Snow_DR_fog': 0.00018593212001967558,\n",
       " 'LH_Snow_SP_Rain': 0.00019970486965076266,\n",
       " 'LH_Snow_SP_Sun': 0.00019970486965076266,\n",
       " 'LH_Snow_SP_Clouds': 0.00019970486965076266,\n",
       " 'LH_Snow_SP_Snow': 0.00019970486965076266,\n",
       " 'LH_Snow_SP_fog': 0.00019970486965076266,\n",
       " 'LH_Snow_LN_Rain': 0.00018248893261190382,\n",
       " 'LH_Snow_LN_Sun': 0.00018248893261190382,\n",
       " 'LH_Snow_LN_Clouds': 0.00018248893261190382,\n",
       " 'LH_Snow_LN_Snow': 0.00018248893261190382,\n",
       " 'LH_Snow_LN_fog': 0.00018248893261190382,\n",
       " 'LH_Snow_KR_Rain': 0.0001480570585341861,\n",
       " 'LH_Snow_KR_Sun': 0.0001480570585341861,\n",
       " 'LH_Snow_KR_Clouds': 0.0001480570585341861,\n",
       " 'LH_Snow_KR_Snow': 0.0001480570585341861,\n",
       " 'LH_Snow_KR_fog': 0.0001480570585341861,\n",
       " 'LH_Snow_DK_Rain': 0.0001273979340875555,\n",
       " 'LH_Snow_DK_Sun': 0.0001273979340875555,\n",
       " 'LH_Snow_DK_Clouds': 0.0001273979340875555,\n",
       " 'LH_Snow_DK_Snow': 0.0001273979340875555,\n",
       " 'LH_Snow_DK_fog': 0.0001273979340875555,\n",
       " 'LH_Snow_NH_Rain': 0.00013084112149532726,\n",
       " 'LH_Snow_NH_Sun': 0.00013084112149532726,\n",
       " 'LH_Snow_NH_Clouds': 0.00013084112149532726,\n",
       " 'LH_Snow_NH_Snow': 0.00013084112149532726,\n",
       " 'LH_Snow_NH_fog': 0.00013084112149532726,\n",
       " 'LH_Snow_LS_Rain': 7.230693556320715e-05,\n",
       " 'LH_Snow_LS_Sun': 7.230693556320715e-05,\n",
       " 'LH_Snow_LS_Clouds': 7.230693556320715e-05,\n",
       " 'LH_Snow_LS_Snow': 7.230693556320715e-05,\n",
       " 'LH_Snow_LS_fog': 7.230693556320715e-05,\n",
       " 'LH_Snow_KM_Rain': 7.575012297097895e-05,\n",
       " 'LH_Snow_KM_Sun': 7.575012297097895e-05,\n",
       " 'LH_Snow_KM_Clouds': 7.575012297097895e-05,\n",
       " 'LH_Snow_KM_Snow': 7.575012297097895e-05,\n",
       " 'LH_Snow_KM_fog': 7.575012297097895e-05,\n",
       " 'LH_Snow_AG_Rain': 4.820462370880478e-05,\n",
       " 'LH_Snow_AG_Sun': 4.820462370880478e-05,\n",
       " 'LH_Snow_AG_Clouds': 4.820462370880478e-05,\n",
       " 'LH_Snow_AG_Snow': 4.820462370880478e-05,\n",
       " 'LH_Snow_AG_fog': 4.820462370880478e-05,\n",
       " 'LH_Snow_RG_Rain': 2.754549926217416e-05,\n",
       " 'LH_Snow_RG_Sun': 2.754549926217416e-05,\n",
       " 'LH_Snow_RG_Clouds': 2.754549926217416e-05,\n",
       " 'LH_Snow_RG_Snow': 2.754549926217416e-05,\n",
       " 'LH_Snow_RG_fog': 2.754549926217416e-05,\n",
       " 'LH_Snow_RK_Rain': 3.44318740777177e-06,\n",
       " 'LH_Snow_RK_Sun': 3.44318740777177e-06,\n",
       " 'LH_Snow_RK_Clouds': 3.44318740777177e-06,\n",
       " 'LH_Snow_RK_Snow': 3.44318740777177e-06,\n",
       " 'LH_Snow_RK_fog': 3.44318740777177e-06,\n",
       " 'LH_Snow_GR_Rain': 0.0,\n",
       " 'LH_Snow_GR_Sun': 0.0,\n",
       " 'LH_Snow_GR_Clouds': 0.0,\n",
       " 'LH_Snow_GR_Snow': 0.0,\n",
       " 'LH_Snow_GR_fog': 0.0,\n",
       " 'LH_fog_LH_Rain': 0.001511559272011807,\n",
       " 'LH_fog_LH_Sun': 0.001511559272011807,\n",
       " 'LH_fog_LH_Clouds': 0.001511559272011807,\n",
       " 'LH_fog_LH_Snow': 0.001511559272011807,\n",
       " 'LH_fog_LH_fog': 0.001511559272011807,\n",
       " 'LH_fog_VB_Rain': 0.0011844564682734887,\n",
       " 'LH_fog_VB_Sun': 0.0011844564682734887,\n",
       " 'LH_fog_VB_Clouds': 0.0011844564682734887,\n",
       " 'LH_fog_VB_Snow': 0.0011844564682734887,\n",
       " 'LH_fog_VB_fog': 0.0011844564682734887,\n",
       " 'LH_fog_MV_Rain': 0.0009985243482538136,\n",
       " 'LH_fog_MV_Sun': 0.0009985243482538136,\n",
       " 'LH_fog_MV_Clouds': 0.0009985243482538136,\n",
       " 'LH_fog_MV_Snow': 0.0009985243482538136,\n",
       " 'LH_fog_MV_fog': 0.0009985243482538136,\n",
       " 'LH_fog_CL_Rain': 0.0009606492867683239,\n",
       " 'LH_fog_CL_Sun': 0.0009606492867683239,\n",
       " 'LH_fog_CL_Clouds': 0.0009606492867683239,\n",
       " 'LH_fog_CL_Snow': 0.0009606492867683239,\n",
       " 'LH_fog_CL_fog': 0.0009606492867683239,\n",
       " 'LH_fog_SV_Rain': 0.0008263649778652249,\n",
       " 'LH_fog_SV_Sun': 0.0008263649778652249,\n",
       " 'LH_fog_SV_Clouds': 0.0008263649778652249,\n",
       " 'LH_fog_SV_Snow': 0.0008263649778652249,\n",
       " 'LH_fog_SV_fog': 0.0008263649778652249,\n",
       " 'LH_fog_CS_Rain': 0.00035809149040826407,\n",
       " 'LH_fog_CS_Sun': 0.00035809149040826407,\n",
       " 'LH_fog_CS_Clouds': 0.00035809149040826407,\n",
       " 'LH_fog_CS_Snow': 0.00035809149040826407,\n",
       " 'LH_fog_CS_fog': 0.00035809149040826407,\n",
       " 'LH_fog_PG_Rain': 0.0003271028037383181,\n",
       " 'LH_fog_PG_Sun': 0.0003271028037383181,\n",
       " 'LH_fog_PG_Clouds': 0.0003271028037383181,\n",
       " 'LH_fog_PG_Snow': 0.0003271028037383181,\n",
       " 'LH_fog_PG_fog': 0.0003271028037383181,\n",
       " 'LH_fog_AA_Rain': 0.0003512051155927205,\n",
       " 'LH_fog_AA_Sun': 0.0003512051155927205,\n",
       " 'LH_fog_AA_Clouds': 0.0003512051155927205,\n",
       " 'LH_fog_AA_Snow': 0.0003512051155927205,\n",
       " 'LH_fog_AA_fog': 0.0003512051155927205,\n",
       " 'LH_fog_DR_Rain': 0.00018593212001967558,\n",
       " 'LH_fog_DR_Sun': 0.00018593212001967558,\n",
       " 'LH_fog_DR_Clouds': 0.00018593212001967558,\n",
       " 'LH_fog_DR_Snow': 0.00018593212001967558,\n",
       " 'LH_fog_DR_fog': 0.00018593212001967558,\n",
       " 'LH_fog_SP_Rain': 0.00019970486965076266,\n",
       " 'LH_fog_SP_Sun': 0.00019970486965076266,\n",
       " 'LH_fog_SP_Clouds': 0.00019970486965076266,\n",
       " 'LH_fog_SP_Snow': 0.00019970486965076266,\n",
       " 'LH_fog_SP_fog': 0.00019970486965076266,\n",
       " 'LH_fog_LN_Rain': 0.00018248893261190382,\n",
       " 'LH_fog_LN_Sun': 0.00018248893261190382,\n",
       " 'LH_fog_LN_Clouds': 0.00018248893261190382,\n",
       " 'LH_fog_LN_Snow': 0.00018248893261190382,\n",
       " 'LH_fog_LN_fog': 0.00018248893261190382,\n",
       " 'LH_fog_KR_Rain': 0.0001480570585341861,\n",
       " 'LH_fog_KR_Sun': 0.0001480570585341861,\n",
       " 'LH_fog_KR_Clouds': 0.0001480570585341861,\n",
       " 'LH_fog_KR_Snow': 0.0001480570585341861,\n",
       " 'LH_fog_KR_fog': 0.0001480570585341861,\n",
       " 'LH_fog_DK_Rain': 0.0001273979340875555,\n",
       " 'LH_fog_DK_Sun': 0.0001273979340875555,\n",
       " 'LH_fog_DK_Clouds': 0.0001273979340875555,\n",
       " 'LH_fog_DK_Snow': 0.0001273979340875555,\n",
       " 'LH_fog_DK_fog': 0.0001273979340875555,\n",
       " 'LH_fog_NH_Rain': 0.00013084112149532726,\n",
       " 'LH_fog_NH_Sun': 0.00013084112149532726,\n",
       " 'LH_fog_NH_Clouds': 0.00013084112149532726,\n",
       " 'LH_fog_NH_Snow': 0.00013084112149532726,\n",
       " 'LH_fog_NH_fog': 0.00013084112149532726,\n",
       " 'LH_fog_LS_Rain': 7.230693556320715e-05,\n",
       " 'LH_fog_LS_Sun': 7.230693556320715e-05,\n",
       " 'LH_fog_LS_Clouds': 7.230693556320715e-05,\n",
       " 'LH_fog_LS_Snow': 7.230693556320715e-05,\n",
       " 'LH_fog_LS_fog': 7.230693556320715e-05,\n",
       " 'LH_fog_KM_Rain': 7.575012297097895e-05,\n",
       " 'LH_fog_KM_Sun': 7.575012297097895e-05,\n",
       " 'LH_fog_KM_Clouds': 7.575012297097895e-05,\n",
       " 'LH_fog_KM_Snow': 7.575012297097895e-05,\n",
       " 'LH_fog_KM_fog': 7.575012297097895e-05,\n",
       " 'LH_fog_AG_Rain': 4.820462370880478e-05,\n",
       " 'LH_fog_AG_Sun': 4.820462370880478e-05,\n",
       " 'LH_fog_AG_Clouds': 4.820462370880478e-05,\n",
       " 'LH_fog_AG_Snow': 4.820462370880478e-05,\n",
       " 'LH_fog_AG_fog': 4.820462370880478e-05,\n",
       " 'LH_fog_RG_Rain': 2.754549926217416e-05,\n",
       " 'LH_fog_RG_Sun': 2.754549926217416e-05,\n",
       " 'LH_fog_RG_Clouds': 2.754549926217416e-05,\n",
       " 'LH_fog_RG_Snow': 2.754549926217416e-05,\n",
       " 'LH_fog_RG_fog': 2.754549926217416e-05,\n",
       " 'LH_fog_RK_Rain': 3.44318740777177e-06,\n",
       " 'LH_fog_RK_Sun': 3.44318740777177e-06,\n",
       " 'LH_fog_RK_Clouds': 3.44318740777177e-06,\n",
       " 'LH_fog_RK_Snow': 3.44318740777177e-06,\n",
       " 'LH_fog_RK_fog': 3.44318740777177e-06,\n",
       " 'LH_fog_GR_Rain': 0.0,\n",
       " 'LH_fog_GR_Sun': 0.0,\n",
       " 'LH_fog_GR_Clouds': 0.0,\n",
       " 'LH_fog_GR_Snow': 0.0,\n",
       " 'LH_fog_GR_fog': 0.0,\n",
       " 'VB_Rain_LH_Rain': 0.0011931436384403124,\n",
       " 'VB_Rain_LH_Sun': 0.0011931436384403124,\n",
       " 'VB_Rain_LH_Clouds': 0.0011931436384403124,\n",
       " 'VB_Rain_LH_Snow': 0.0011931436384403124,\n",
       " 'VB_Rain_LH_fog': 0.0011931436384403124,\n",
       " 'VB_Rain_VB_Rain': 0.0009349462679350056,\n",
       " 'VB_Rain_VB_Sun': 0.0009349462679350056,\n",
       " 'VB_Rain_VB_Clouds': 0.0009349462679350056,\n",
       " 'VB_Rain_VB_Snow': 0.0009349462679350056,\n",
       " 'VB_Rain_VB_fog': 0.0009349462679350056,\n",
       " 'VB_Rain_MV_Rain': 0.0007881814468056734,\n",
       " 'VB_Rain_MV_Sun': 0.0007881814468056734,\n",
       " 'VB_Rain_MV_Clouds': 0.0007881814468056734,\n",
       " 'VB_Rain_MV_Snow': 0.0007881814468056734,\n",
       " 'VB_Rain_MV_fog': 0.0007881814468056734,\n",
       " 'VB_Rain_CL_Rain': 0.0007582849091682169,\n",
       " 'VB_Rain_CL_Sun': 0.0007582849091682169,\n",
       " 'VB_Rain_CL_Clouds': 0.0007582849091682169,\n",
       " 'VB_Rain_CL_Snow': 0.0007582849091682169,\n",
       " 'VB_Rain_CL_fog': 0.0007582849091682169,\n",
       " 'VB_Rain_SV_Rain': 0.0006522880939081435,\n",
       " 'VB_Rain_SV_Sun': 0.0006522880939081435,\n",
       " 'VB_Rain_SV_Clouds': 0.0006522880939081435,\n",
       " 'VB_Rain_SV_Snow': 0.0006522880939081435,\n",
       " 'VB_Rain_SV_fog': 0.0006522880939081435,\n",
       " 'VB_Rain_CS_Rain': 0.0002826581740268621,\n",
       " 'VB_Rain_CS_Sun': 0.0002826581740268621,\n",
       " 'VB_Rain_CS_Clouds': 0.0002826581740268621,\n",
       " 'VB_Rain_CS_Snow': 0.0002826581740268621,\n",
       " 'VB_Rain_CS_fog': 0.0002826581740268621,\n",
       " 'VB_Rain_PG_Rain': 0.00025819737050530677,\n",
       " 'VB_Rain_PG_Sun': 0.00025819737050530677,\n",
       " 'VB_Rain_PG_Clouds': 0.00025819737050530677,\n",
       " 'VB_Rain_PG_Snow': 0.00025819737050530677,\n",
       " 'VB_Rain_PG_fog': 0.00025819737050530677,\n",
       " 'VB_Rain_AA_Rain': 0.00027722243991096094,\n",
       " 'VB_Rain_AA_Sun': 0.00027722243991096094,\n",
       " 'VB_Rain_AA_Clouds': 0.00027722243991096094,\n",
       " 'VB_Rain_AA_Snow': 0.00027722243991096094,\n",
       " 'VB_Rain_AA_fog': 0.00027722243991096094,\n",
       " 'VB_Rain_DR_Rain': 0.00014676482112933227,\n",
       " 'VB_Rain_DR_Sun': 0.00014676482112933227,\n",
       " 'VB_Rain_DR_Clouds': 0.00014676482112933227,\n",
       " 'VB_Rain_DR_Snow': 0.00014676482112933227,\n",
       " 'VB_Rain_DR_fog': 0.00014676482112933227,\n",
       " 'VB_Rain_SP_Rain': 0.00015763628936113467,\n",
       " 'VB_Rain_SP_Sun': 0.00015763628936113467,\n",
       " 'VB_Rain_SP_Clouds': 0.00015763628936113467,\n",
       " 'VB_Rain_SP_Snow': 0.00015763628936113467,\n",
       " 'VB_Rain_SP_fog': 0.00015763628936113467,\n",
       " 'VB_Rain_LN_Rain': 0.00014404695407138168,\n",
       " 'VB_Rain_LN_Sun': 0.00014404695407138168,\n",
       " 'VB_Rain_LN_Clouds': 0.00014404695407138168,\n",
       " 'VB_Rain_LN_Snow': 0.00014404695407138168,\n",
       " 'VB_Rain_LN_fog': 0.00014404695407138168,\n",
       " 'VB_Rain_KR_Rain': 0.0001168682834918757,\n",
       " 'VB_Rain_KR_Sun': 0.0001168682834918757,\n",
       " 'VB_Rain_KR_Clouds': 0.0001168682834918757,\n",
       " 'VB_Rain_KR_Snow': 0.0001168682834918757,\n",
       " 'VB_Rain_KR_fog': 0.0001168682834918757,\n",
       " 'VB_Rain_DK_Rain': 0.00010056108114417211,\n",
       " 'VB_Rain_DK_Sun': 0.00010056108114417211,\n",
       " 'VB_Rain_DK_Clouds': 0.00010056108114417211,\n",
       " 'VB_Rain_DK_Snow': 0.00010056108114417211,\n",
       " 'VB_Rain_DK_fog': 0.00010056108114417211,\n",
       " 'VB_Rain_NH_Rain': 0.00010327894820212272,\n",
       " 'VB_Rain_NH_Sun': 0.00010327894820212272,\n",
       " 'VB_Rain_NH_Clouds': 0.00010327894820212272,\n",
       " 'VB_Rain_NH_Snow': 0.00010327894820212272,\n",
       " 'VB_Rain_NH_fog': 0.00010327894820212272,\n",
       " 'VB_Rain_LS_Rain': 5.707520821696255e-05,\n",
       " 'VB_Rain_LS_Sun': 5.707520821696255e-05,\n",
       " 'VB_Rain_LS_Clouds': 5.707520821696255e-05,\n",
       " 'VB_Rain_LS_Snow': 5.707520821696255e-05,\n",
       " 'VB_Rain_LS_fog': 5.707520821696255e-05,\n",
       " 'VB_Rain_KM_Rain': 5.9793075274913156e-05,\n",
       " 'VB_Rain_KM_Sun': 5.9793075274913156e-05,\n",
       " 'VB_Rain_KM_Clouds': 5.9793075274913156e-05,\n",
       " 'VB_Rain_KM_Snow': 5.9793075274913156e-05,\n",
       " 'VB_Rain_KM_fog': 5.9793075274913156e-05,\n",
       " 'VB_Rain_AG_Rain': 3.805013881130837e-05,\n",
       " 'VB_Rain_AG_Sun': 3.805013881130837e-05,\n",
       " 'VB_Rain_AG_Clouds': 3.805013881130837e-05,\n",
       " 'VB_Rain_AG_Snow': 3.805013881130837e-05,\n",
       " 'VB_Rain_AG_fog': 3.805013881130837e-05,\n",
       " 'VB_Rain_RG_Rain': 2.1742936463604785e-05,\n",
       " 'VB_Rain_RG_Sun': 2.1742936463604785e-05,\n",
       " 'VB_Rain_RG_Clouds': 2.1742936463604785e-05,\n",
       " 'VB_Rain_RG_Snow': 2.1742936463604785e-05,\n",
       " 'VB_Rain_RG_fog': 2.1742936463604785e-05,\n",
       " 'VB_Rain_RK_Rain': 2.717867057950598e-06,\n",
       " 'VB_Rain_RK_Sun': 2.717867057950598e-06,\n",
       " 'VB_Rain_RK_Clouds': 2.717867057950598e-06,\n",
       " 'VB_Rain_RK_Snow': 2.717867057950598e-06,\n",
       " 'VB_Rain_RK_fog': 2.717867057950598e-06,\n",
       " 'VB_Rain_GR_Rain': 0.0,\n",
       " 'VB_Rain_GR_Sun': 0.0,\n",
       " 'VB_Rain_GR_Clouds': 0.0,\n",
       " 'VB_Rain_GR_Snow': 0.0,\n",
       " 'VB_Rain_GR_fog': 0.0,\n",
       " 'VB_Sun_LH_Rain': 0.0011931436384403124,\n",
       " 'VB_Sun_LH_Sun': 0.0011931436384403124,\n",
       " 'VB_Sun_LH_Clouds': 0.0011931436384403124,\n",
       " 'VB_Sun_LH_Snow': 0.0011931436384403124,\n",
       " 'VB_Sun_LH_fog': 0.0011931436384403124,\n",
       " 'VB_Sun_VB_Rain': 0.0009349462679350056,\n",
       " 'VB_Sun_VB_Sun': 0.0009349462679350056,\n",
       " 'VB_Sun_VB_Clouds': 0.0009349462679350056,\n",
       " 'VB_Sun_VB_Snow': 0.0009349462679350056,\n",
       " 'VB_Sun_VB_fog': 0.0009349462679350056,\n",
       " 'VB_Sun_MV_Rain': 0.0007881814468056734,\n",
       " 'VB_Sun_MV_Sun': 0.0007881814468056734,\n",
       " 'VB_Sun_MV_Clouds': 0.0007881814468056734,\n",
       " 'VB_Sun_MV_Snow': 0.0007881814468056734,\n",
       " 'VB_Sun_MV_fog': 0.0007881814468056734,\n",
       " 'VB_Sun_CL_Rain': 0.0007582849091682169,\n",
       " 'VB_Sun_CL_Sun': 0.0007582849091682169,\n",
       " 'VB_Sun_CL_Clouds': 0.0007582849091682169,\n",
       " 'VB_Sun_CL_Snow': 0.0007582849091682169,\n",
       " 'VB_Sun_CL_fog': 0.0007582849091682169,\n",
       " 'VB_Sun_SV_Rain': 0.0006522880939081435,\n",
       " 'VB_Sun_SV_Sun': 0.0006522880939081435,\n",
       " 'VB_Sun_SV_Clouds': 0.0006522880939081435,\n",
       " 'VB_Sun_SV_Snow': 0.0006522880939081435,\n",
       " 'VB_Sun_SV_fog': 0.0006522880939081435,\n",
       " 'VB_Sun_CS_Rain': 0.0002826581740268621,\n",
       " 'VB_Sun_CS_Sun': 0.0002826581740268621,\n",
       " 'VB_Sun_CS_Clouds': 0.0002826581740268621,\n",
       " 'VB_Sun_CS_Snow': 0.0002826581740268621,\n",
       " 'VB_Sun_CS_fog': 0.0002826581740268621,\n",
       " 'VB_Sun_PG_Rain': 0.00025819737050530677,\n",
       " 'VB_Sun_PG_Sun': 0.00025819737050530677,\n",
       " 'VB_Sun_PG_Clouds': 0.00025819737050530677,\n",
       " 'VB_Sun_PG_Snow': 0.00025819737050530677,\n",
       " 'VB_Sun_PG_fog': 0.00025819737050530677,\n",
       " 'VB_Sun_AA_Rain': 0.00027722243991096094,\n",
       " 'VB_Sun_AA_Sun': 0.00027722243991096094,\n",
       " 'VB_Sun_AA_Clouds': 0.00027722243991096094,\n",
       " 'VB_Sun_AA_Snow': 0.00027722243991096094,\n",
       " 'VB_Sun_AA_fog': 0.00027722243991096094,\n",
       " 'VB_Sun_DR_Rain': 0.00014676482112933227,\n",
       " 'VB_Sun_DR_Sun': 0.00014676482112933227,\n",
       " 'VB_Sun_DR_Clouds': 0.00014676482112933227,\n",
       " 'VB_Sun_DR_Snow': 0.00014676482112933227,\n",
       " 'VB_Sun_DR_fog': 0.00014676482112933227,\n",
       " 'VB_Sun_SP_Rain': 0.00015763628936113467,\n",
       " 'VB_Sun_SP_Sun': 0.00015763628936113467,\n",
       " 'VB_Sun_SP_Clouds': 0.00015763628936113467,\n",
       " 'VB_Sun_SP_Snow': 0.00015763628936113467,\n",
       " 'VB_Sun_SP_fog': 0.00015763628936113467,\n",
       " 'VB_Sun_LN_Rain': 0.00014404695407138168,\n",
       " 'VB_Sun_LN_Sun': 0.00014404695407138168,\n",
       " 'VB_Sun_LN_Clouds': 0.00014404695407138168,\n",
       " 'VB_Sun_LN_Snow': 0.00014404695407138168,\n",
       " 'VB_Sun_LN_fog': 0.00014404695407138168,\n",
       " 'VB_Sun_KR_Rain': 0.0001168682834918757,\n",
       " 'VB_Sun_KR_Sun': 0.0001168682834918757,\n",
       " 'VB_Sun_KR_Clouds': 0.0001168682834918757,\n",
       " 'VB_Sun_KR_Snow': 0.0001168682834918757,\n",
       " 'VB_Sun_KR_fog': 0.0001168682834918757,\n",
       " 'VB_Sun_DK_Rain': 0.00010056108114417211,\n",
       " 'VB_Sun_DK_Sun': 0.00010056108114417211,\n",
       " 'VB_Sun_DK_Clouds': 0.00010056108114417211,\n",
       " 'VB_Sun_DK_Snow': 0.00010056108114417211,\n",
       " 'VB_Sun_DK_fog': 0.00010056108114417211,\n",
       " 'VB_Sun_NH_Rain': 0.00010327894820212272,\n",
       " 'VB_Sun_NH_Sun': 0.00010327894820212272,\n",
       " 'VB_Sun_NH_Clouds': 0.00010327894820212272,\n",
       " 'VB_Sun_NH_Snow': 0.00010327894820212272,\n",
       " 'VB_Sun_NH_fog': 0.00010327894820212272,\n",
       " 'VB_Sun_LS_Rain': 5.707520821696255e-05,\n",
       " 'VB_Sun_LS_Sun': 5.707520821696255e-05,\n",
       " 'VB_Sun_LS_Clouds': 5.707520821696255e-05,\n",
       " 'VB_Sun_LS_Snow': 5.707520821696255e-05,\n",
       " 'VB_Sun_LS_fog': 5.707520821696255e-05,\n",
       " 'VB_Sun_KM_Rain': 5.9793075274913156e-05,\n",
       " 'VB_Sun_KM_Sun': 5.9793075274913156e-05,\n",
       " 'VB_Sun_KM_Clouds': 5.9793075274913156e-05,\n",
       " 'VB_Sun_KM_Snow': 5.9793075274913156e-05,\n",
       " 'VB_Sun_KM_fog': 5.9793075274913156e-05,\n",
       " 'VB_Sun_AG_Rain': 3.805013881130837e-05,\n",
       " 'VB_Sun_AG_Sun': 3.805013881130837e-05,\n",
       " 'VB_Sun_AG_Clouds': 3.805013881130837e-05,\n",
       " 'VB_Sun_AG_Snow': 3.805013881130837e-05,\n",
       " 'VB_Sun_AG_fog': 3.805013881130837e-05,\n",
       " 'VB_Sun_RG_Rain': 2.1742936463604785e-05,\n",
       " 'VB_Sun_RG_Sun': 2.1742936463604785e-05,\n",
       " 'VB_Sun_RG_Clouds': 2.1742936463604785e-05,\n",
       " 'VB_Sun_RG_Snow': 2.1742936463604785e-05,\n",
       " 'VB_Sun_RG_fog': 2.1742936463604785e-05,\n",
       " 'VB_Sun_RK_Rain': 2.717867057950598e-06,\n",
       " 'VB_Sun_RK_Sun': 2.717867057950598e-06,\n",
       " 'VB_Sun_RK_Clouds': 2.717867057950598e-06,\n",
       " 'VB_Sun_RK_Snow': 2.717867057950598e-06,\n",
       " 'VB_Sun_RK_fog': 2.717867057950598e-06,\n",
       " 'VB_Sun_GR_Rain': 0.0,\n",
       " 'VB_Sun_GR_Sun': 0.0,\n",
       " 'VB_Sun_GR_Clouds': 0.0,\n",
       " 'VB_Sun_GR_Snow': 0.0,\n",
       " 'VB_Sun_GR_fog': 0.0,\n",
       " 'VB_Clouds_LH_Rain': 0.0011931436384403124,\n",
       " 'VB_Clouds_LH_Sun': 0.0011931436384403124,\n",
       " 'VB_Clouds_LH_Clouds': 0.0011931436384403124,\n",
       " 'VB_Clouds_LH_Snow': 0.0011931436384403124,\n",
       " 'VB_Clouds_LH_fog': 0.0011931436384403124,\n",
       " 'VB_Clouds_VB_Rain': 0.0009349462679350056,\n",
       " 'VB_Clouds_VB_Sun': 0.0009349462679350056,\n",
       " 'VB_Clouds_VB_Clouds': 0.0009349462679350056,\n",
       " 'VB_Clouds_VB_Snow': 0.0009349462679350056,\n",
       " 'VB_Clouds_VB_fog': 0.0009349462679350056,\n",
       " 'VB_Clouds_MV_Rain': 0.0007881814468056734,\n",
       " 'VB_Clouds_MV_Sun': 0.0007881814468056734,\n",
       " 'VB_Clouds_MV_Clouds': 0.0007881814468056734,\n",
       " 'VB_Clouds_MV_Snow': 0.0007881814468056734,\n",
       " 'VB_Clouds_MV_fog': 0.0007881814468056734,\n",
       " 'VB_Clouds_CL_Rain': 0.0007582849091682169,\n",
       " 'VB_Clouds_CL_Sun': 0.0007582849091682169,\n",
       " 'VB_Clouds_CL_Clouds': 0.0007582849091682169,\n",
       " 'VB_Clouds_CL_Snow': 0.0007582849091682169,\n",
       " 'VB_Clouds_CL_fog': 0.0007582849091682169,\n",
       " 'VB_Clouds_SV_Rain': 0.0006522880939081435,\n",
       " 'VB_Clouds_SV_Sun': 0.0006522880939081435,\n",
       " 'VB_Clouds_SV_Clouds': 0.0006522880939081435,\n",
       " 'VB_Clouds_SV_Snow': 0.0006522880939081435,\n",
       " 'VB_Clouds_SV_fog': 0.0006522880939081435,\n",
       " 'VB_Clouds_CS_Rain': 0.0002826581740268621,\n",
       " 'VB_Clouds_CS_Sun': 0.0002826581740268621,\n",
       " 'VB_Clouds_CS_Clouds': 0.0002826581740268621,\n",
       " 'VB_Clouds_CS_Snow': 0.0002826581740268621,\n",
       " 'VB_Clouds_CS_fog': 0.0002826581740268621,\n",
       " 'VB_Clouds_PG_Rain': 0.00025819737050530677,\n",
       " 'VB_Clouds_PG_Sun': 0.00025819737050530677,\n",
       " 'VB_Clouds_PG_Clouds': 0.00025819737050530677,\n",
       " 'VB_Clouds_PG_Snow': 0.00025819737050530677,\n",
       " 'VB_Clouds_PG_fog': 0.00025819737050530677,\n",
       " 'VB_Clouds_AA_Rain': 0.00027722243991096094,\n",
       " 'VB_Clouds_AA_Sun': 0.00027722243991096094,\n",
       " 'VB_Clouds_AA_Clouds': 0.00027722243991096094,\n",
       " 'VB_Clouds_AA_Snow': 0.00027722243991096094,\n",
       " 'VB_Clouds_AA_fog': 0.00027722243991096094,\n",
       " 'VB_Clouds_DR_Rain': 0.00014676482112933227,\n",
       " 'VB_Clouds_DR_Sun': 0.00014676482112933227,\n",
       " 'VB_Clouds_DR_Clouds': 0.00014676482112933227,\n",
       " 'VB_Clouds_DR_Snow': 0.00014676482112933227,\n",
       " 'VB_Clouds_DR_fog': 0.00014676482112933227,\n",
       " 'VB_Clouds_SP_Rain': 0.00015763628936113467,\n",
       " 'VB_Clouds_SP_Sun': 0.00015763628936113467,\n",
       " 'VB_Clouds_SP_Clouds': 0.00015763628936113467,\n",
       " 'VB_Clouds_SP_Snow': 0.00015763628936113467,\n",
       " 'VB_Clouds_SP_fog': 0.00015763628936113467,\n",
       " 'VB_Clouds_LN_Rain': 0.00014404695407138168,\n",
       " 'VB_Clouds_LN_Sun': 0.00014404695407138168,\n",
       " 'VB_Clouds_LN_Clouds': 0.00014404695407138168,\n",
       " 'VB_Clouds_LN_Snow': 0.00014404695407138168,\n",
       " 'VB_Clouds_LN_fog': 0.00014404695407138168,\n",
       " 'VB_Clouds_KR_Rain': 0.0001168682834918757,\n",
       " 'VB_Clouds_KR_Sun': 0.0001168682834918757,\n",
       " 'VB_Clouds_KR_Clouds': 0.0001168682834918757,\n",
       " 'VB_Clouds_KR_Snow': 0.0001168682834918757,\n",
       " 'VB_Clouds_KR_fog': 0.0001168682834918757,\n",
       " 'VB_Clouds_DK_Rain': 0.00010056108114417211,\n",
       " 'VB_Clouds_DK_Sun': 0.00010056108114417211,\n",
       " 'VB_Clouds_DK_Clouds': 0.00010056108114417211,\n",
       " 'VB_Clouds_DK_Snow': 0.00010056108114417211,\n",
       " 'VB_Clouds_DK_fog': 0.00010056108114417211,\n",
       " 'VB_Clouds_NH_Rain': 0.00010327894820212272,\n",
       " 'VB_Clouds_NH_Sun': 0.00010327894820212272,\n",
       " 'VB_Clouds_NH_Clouds': 0.00010327894820212272,\n",
       " 'VB_Clouds_NH_Snow': 0.00010327894820212272,\n",
       " 'VB_Clouds_NH_fog': 0.00010327894820212272,\n",
       " 'VB_Clouds_LS_Rain': 5.707520821696255e-05,\n",
       " 'VB_Clouds_LS_Sun': 5.707520821696255e-05,\n",
       " 'VB_Clouds_LS_Clouds': 5.707520821696255e-05,\n",
       " 'VB_Clouds_LS_Snow': 5.707520821696255e-05,\n",
       " 'VB_Clouds_LS_fog': 5.707520821696255e-05,\n",
       " 'VB_Clouds_KM_Rain': 5.9793075274913156e-05,\n",
       " 'VB_Clouds_KM_Sun': 5.9793075274913156e-05,\n",
       " 'VB_Clouds_KM_Clouds': 5.9793075274913156e-05,\n",
       " 'VB_Clouds_KM_Snow': 5.9793075274913156e-05,\n",
       " 'VB_Clouds_KM_fog': 5.9793075274913156e-05,\n",
       " 'VB_Clouds_AG_Rain': 3.805013881130837e-05,\n",
       " 'VB_Clouds_AG_Sun': 3.805013881130837e-05,\n",
       " 'VB_Clouds_AG_Clouds': 3.805013881130837e-05,\n",
       " 'VB_Clouds_AG_Snow': 3.805013881130837e-05,\n",
       " 'VB_Clouds_AG_fog': 3.805013881130837e-05,\n",
       " 'VB_Clouds_RG_Rain': 2.1742936463604785e-05,\n",
       " 'VB_Clouds_RG_Sun': 2.1742936463604785e-05,\n",
       " 'VB_Clouds_RG_Clouds': 2.1742936463604785e-05,\n",
       " 'VB_Clouds_RG_Snow': 2.1742936463604785e-05,\n",
       " 'VB_Clouds_RG_fog': 2.1742936463604785e-05,\n",
       " 'VB_Clouds_RK_Rain': 2.717867057950598e-06,\n",
       " 'VB_Clouds_RK_Sun': 2.717867057950598e-06,\n",
       " 'VB_Clouds_RK_Clouds': 2.717867057950598e-06,\n",
       " 'VB_Clouds_RK_Snow': 2.717867057950598e-06,\n",
       " 'VB_Clouds_RK_fog': 2.717867057950598e-06,\n",
       " 'VB_Clouds_GR_Rain': 0.0,\n",
       " 'VB_Clouds_GR_Sun': 0.0,\n",
       " 'VB_Clouds_GR_Clouds': 0.0,\n",
       " 'VB_Clouds_GR_Snow': 0.0,\n",
       " 'VB_Clouds_GR_fog': 0.0,\n",
       " 'VB_Snow_LH_Rain': 0.0011931436384403124,\n",
       " 'VB_Snow_LH_Sun': 0.0011931436384403124,\n",
       " 'VB_Snow_LH_Clouds': 0.0011931436384403124,\n",
       " 'VB_Snow_LH_Snow': 0.0011931436384403124,\n",
       " 'VB_Snow_LH_fog': 0.0011931436384403124,\n",
       " 'VB_Snow_VB_Rain': 0.0009349462679350056,\n",
       " 'VB_Snow_VB_Sun': 0.0009349462679350056,\n",
       " 'VB_Snow_VB_Clouds': 0.0009349462679350056,\n",
       " 'VB_Snow_VB_Snow': 0.0009349462679350056,\n",
       " 'VB_Snow_VB_fog': 0.0009349462679350056,\n",
       " 'VB_Snow_MV_Rain': 0.0007881814468056734,\n",
       " 'VB_Snow_MV_Sun': 0.0007881814468056734,\n",
       " 'VB_Snow_MV_Clouds': 0.0007881814468056734,\n",
       " 'VB_Snow_MV_Snow': 0.0007881814468056734,\n",
       " 'VB_Snow_MV_fog': 0.0007881814468056734,\n",
       " 'VB_Snow_CL_Rain': 0.0007582849091682169,\n",
       " 'VB_Snow_CL_Sun': 0.0007582849091682169,\n",
       " 'VB_Snow_CL_Clouds': 0.0007582849091682169,\n",
       " 'VB_Snow_CL_Snow': 0.0007582849091682169,\n",
       " 'VB_Snow_CL_fog': 0.0007582849091682169,\n",
       " 'VB_Snow_SV_Rain': 0.0006522880939081435,\n",
       " 'VB_Snow_SV_Sun': 0.0006522880939081435,\n",
       " 'VB_Snow_SV_Clouds': 0.0006522880939081435,\n",
       " 'VB_Snow_SV_Snow': 0.0006522880939081435,\n",
       " 'VB_Snow_SV_fog': 0.0006522880939081435,\n",
       " 'VB_Snow_CS_Rain': 0.0002826581740268621,\n",
       " 'VB_Snow_CS_Sun': 0.0002826581740268621,\n",
       " 'VB_Snow_CS_Clouds': 0.0002826581740268621,\n",
       " 'VB_Snow_CS_Snow': 0.0002826581740268621,\n",
       " 'VB_Snow_CS_fog': 0.0002826581740268621,\n",
       " 'VB_Snow_PG_Rain': 0.00025819737050530677,\n",
       " 'VB_Snow_PG_Sun': 0.00025819737050530677,\n",
       " 'VB_Snow_PG_Clouds': 0.00025819737050530677,\n",
       " 'VB_Snow_PG_Snow': 0.00025819737050530677,\n",
       " 'VB_Snow_PG_fog': 0.00025819737050530677,\n",
       " 'VB_Snow_AA_Rain': 0.00027722243991096094,\n",
       " 'VB_Snow_AA_Sun': 0.00027722243991096094,\n",
       " 'VB_Snow_AA_Clouds': 0.00027722243991096094,\n",
       " 'VB_Snow_AA_Snow': 0.00027722243991096094,\n",
       " 'VB_Snow_AA_fog': 0.00027722243991096094,\n",
       " 'VB_Snow_DR_Rain': 0.00014676482112933227,\n",
       " 'VB_Snow_DR_Sun': 0.00014676482112933227,\n",
       " 'VB_Snow_DR_Clouds': 0.00014676482112933227,\n",
       " 'VB_Snow_DR_Snow': 0.00014676482112933227,\n",
       " 'VB_Snow_DR_fog': 0.00014676482112933227,\n",
       " 'VB_Snow_SP_Rain': 0.00015763628936113467,\n",
       " 'VB_Snow_SP_Sun': 0.00015763628936113467,\n",
       " 'VB_Snow_SP_Clouds': 0.00015763628936113467,\n",
       " 'VB_Snow_SP_Snow': 0.00015763628936113467,\n",
       " 'VB_Snow_SP_fog': 0.00015763628936113467,\n",
       " 'VB_Snow_LN_Rain': 0.00014404695407138168,\n",
       " 'VB_Snow_LN_Sun': 0.00014404695407138168,\n",
       " 'VB_Snow_LN_Clouds': 0.00014404695407138168,\n",
       " 'VB_Snow_LN_Snow': 0.00014404695407138168,\n",
       " 'VB_Snow_LN_fog': 0.00014404695407138168,\n",
       " 'VB_Snow_KR_Rain': 0.0001168682834918757,\n",
       " 'VB_Snow_KR_Sun': 0.0001168682834918757,\n",
       " 'VB_Snow_KR_Clouds': 0.0001168682834918757,\n",
       " 'VB_Snow_KR_Snow': 0.0001168682834918757,\n",
       " 'VB_Snow_KR_fog': 0.0001168682834918757,\n",
       " 'VB_Snow_DK_Rain': 0.00010056108114417211,\n",
       " 'VB_Snow_DK_Sun': 0.00010056108114417211,\n",
       " 'VB_Snow_DK_Clouds': 0.00010056108114417211,\n",
       " 'VB_Snow_DK_Snow': 0.00010056108114417211,\n",
       " 'VB_Snow_DK_fog': 0.00010056108114417211,\n",
       " 'VB_Snow_NH_Rain': 0.00010327894820212272,\n",
       " 'VB_Snow_NH_Sun': 0.00010327894820212272,\n",
       " 'VB_Snow_NH_Clouds': 0.00010327894820212272,\n",
       " 'VB_Snow_NH_Snow': 0.00010327894820212272,\n",
       " 'VB_Snow_NH_fog': 0.00010327894820212272,\n",
       " 'VB_Snow_LS_Rain': 5.707520821696255e-05,\n",
       " 'VB_Snow_LS_Sun': 5.707520821696255e-05,\n",
       " 'VB_Snow_LS_Clouds': 5.707520821696255e-05,\n",
       " 'VB_Snow_LS_Snow': 5.707520821696255e-05,\n",
       " 'VB_Snow_LS_fog': 5.707520821696255e-05,\n",
       " 'VB_Snow_KM_Rain': 5.9793075274913156e-05,\n",
       " 'VB_Snow_KM_Sun': 5.9793075274913156e-05,\n",
       " 'VB_Snow_KM_Clouds': 5.9793075274913156e-05,\n",
       " 'VB_Snow_KM_Snow': 5.9793075274913156e-05,\n",
       " 'VB_Snow_KM_fog': 5.9793075274913156e-05,\n",
       " 'VB_Snow_AG_Rain': 3.805013881130837e-05,\n",
       " 'VB_Snow_AG_Sun': 3.805013881130837e-05,\n",
       " 'VB_Snow_AG_Clouds': 3.805013881130837e-05,\n",
       " 'VB_Snow_AG_Snow': 3.805013881130837e-05,\n",
       " 'VB_Snow_AG_fog': 3.805013881130837e-05,\n",
       " 'VB_Snow_RG_Rain': 2.1742936463604785e-05,\n",
       " 'VB_Snow_RG_Sun': 2.1742936463604785e-05,\n",
       " 'VB_Snow_RG_Clouds': 2.1742936463604785e-05,\n",
       " 'VB_Snow_RG_Snow': 2.1742936463604785e-05,\n",
       " 'VB_Snow_RG_fog': 2.1742936463604785e-05,\n",
       " 'VB_Snow_RK_Rain': 2.717867057950598e-06,\n",
       " 'VB_Snow_RK_Sun': 2.717867057950598e-06,\n",
       " 'VB_Snow_RK_Clouds': 2.717867057950598e-06,\n",
       " 'VB_Snow_RK_Snow': 2.717867057950598e-06,\n",
       " 'VB_Snow_RK_fog': 2.717867057950598e-06,\n",
       " 'VB_Snow_GR_Rain': 0.0,\n",
       " 'VB_Snow_GR_Sun': 0.0,\n",
       " 'VB_Snow_GR_Clouds': 0.0,\n",
       " 'VB_Snow_GR_Snow': 0.0,\n",
       " 'VB_Snow_GR_fog': 0.0,\n",
       " 'VB_fog_LH_Rain': 0.0011931436384403124,\n",
       " 'VB_fog_LH_Sun': 0.0011931436384403124,\n",
       " 'VB_fog_LH_Clouds': 0.0011931436384403124,\n",
       " 'VB_fog_LH_Snow': 0.0011931436384403124,\n",
       " 'VB_fog_LH_fog': 0.0011931436384403124,\n",
       " 'VB_fog_VB_Rain': 0.0009349462679350056,\n",
       " 'VB_fog_VB_Sun': 0.0009349462679350056,\n",
       " 'VB_fog_VB_Clouds': 0.0009349462679350056,\n",
       " 'VB_fog_VB_Snow': 0.0009349462679350056,\n",
       " 'VB_fog_VB_fog': 0.0009349462679350056,\n",
       " 'VB_fog_MV_Rain': 0.0007881814468056734,\n",
       " 'VB_fog_MV_Sun': 0.0007881814468056734,\n",
       " 'VB_fog_MV_Clouds': 0.0007881814468056734,\n",
       " 'VB_fog_MV_Snow': 0.0007881814468056734,\n",
       " 'VB_fog_MV_fog': 0.0007881814468056734,\n",
       " 'VB_fog_CL_Rain': 0.0007582849091682169,\n",
       " 'VB_fog_CL_Sun': 0.0007582849091682169,\n",
       " 'VB_fog_CL_Clouds': 0.0007582849091682169,\n",
       " 'VB_fog_CL_Snow': 0.0007582849091682169,\n",
       " 'VB_fog_CL_fog': 0.0007582849091682169,\n",
       " 'VB_fog_SV_Rain': 0.0006522880939081435,\n",
       " 'VB_fog_SV_Sun': 0.0006522880939081435,\n",
       " 'VB_fog_SV_Clouds': 0.0006522880939081435,\n",
       " 'VB_fog_SV_Snow': 0.0006522880939081435,\n",
       " 'VB_fog_SV_fog': 0.0006522880939081435,\n",
       " 'VB_fog_CS_Rain': 0.0002826581740268621,\n",
       " 'VB_fog_CS_Sun': 0.0002826581740268621,\n",
       " 'VB_fog_CS_Clouds': 0.0002826581740268621,\n",
       " 'VB_fog_CS_Snow': 0.0002826581740268621,\n",
       " 'VB_fog_CS_fog': 0.0002826581740268621,\n",
       " 'VB_fog_PG_Rain': 0.00025819737050530677,\n",
       " 'VB_fog_PG_Sun': 0.00025819737050530677,\n",
       " 'VB_fog_PG_Clouds': 0.00025819737050530677,\n",
       " 'VB_fog_PG_Snow': 0.00025819737050530677,\n",
       " 'VB_fog_PG_fog': 0.00025819737050530677,\n",
       " 'VB_fog_AA_Rain': 0.00027722243991096094,\n",
       " 'VB_fog_AA_Sun': 0.00027722243991096094,\n",
       " 'VB_fog_AA_Clouds': 0.00027722243991096094,\n",
       " 'VB_fog_AA_Snow': 0.00027722243991096094,\n",
       " 'VB_fog_AA_fog': 0.00027722243991096094,\n",
       " 'VB_fog_DR_Rain': 0.00014676482112933227,\n",
       " 'VB_fog_DR_Sun': 0.00014676482112933227,\n",
       " 'VB_fog_DR_Clouds': 0.00014676482112933227,\n",
       " 'VB_fog_DR_Snow': 0.00014676482112933227,\n",
       " 'VB_fog_DR_fog': 0.00014676482112933227,\n",
       " 'VB_fog_SP_Rain': 0.00015763628936113467,\n",
       " 'VB_fog_SP_Sun': 0.00015763628936113467,\n",
       " 'VB_fog_SP_Clouds': 0.00015763628936113467,\n",
       " 'VB_fog_SP_Snow': 0.00015763628936113467,\n",
       " 'VB_fog_SP_fog': 0.00015763628936113467,\n",
       " 'VB_fog_LN_Rain': 0.00014404695407138168,\n",
       " 'VB_fog_LN_Sun': 0.00014404695407138168,\n",
       " 'VB_fog_LN_Clouds': 0.00014404695407138168,\n",
       " 'VB_fog_LN_Snow': 0.00014404695407138168,\n",
       " 'VB_fog_LN_fog': 0.00014404695407138168,\n",
       " 'VB_fog_KR_Rain': 0.0001168682834918757,\n",
       " 'VB_fog_KR_Sun': 0.0001168682834918757,\n",
       " 'VB_fog_KR_Clouds': 0.0001168682834918757,\n",
       " 'VB_fog_KR_Snow': 0.0001168682834918757,\n",
       " 'VB_fog_KR_fog': 0.0001168682834918757,\n",
       " 'VB_fog_DK_Rain': 0.00010056108114417211,\n",
       " 'VB_fog_DK_Sun': 0.00010056108114417211,\n",
       " 'VB_fog_DK_Clouds': 0.00010056108114417211,\n",
       " 'VB_fog_DK_Snow': 0.00010056108114417211,\n",
       " 'VB_fog_DK_fog': 0.00010056108114417211,\n",
       " 'VB_fog_NH_Rain': 0.00010327894820212272,\n",
       " 'VB_fog_NH_Sun': 0.00010327894820212272,\n",
       " 'VB_fog_NH_Clouds': 0.00010327894820212272,\n",
       " 'VB_fog_NH_Snow': 0.00010327894820212272,\n",
       " 'VB_fog_NH_fog': 0.00010327894820212272,\n",
       " 'VB_fog_LS_Rain': 5.707520821696255e-05,\n",
       " 'VB_fog_LS_Sun': 5.707520821696255e-05,\n",
       " 'VB_fog_LS_Clouds': 5.707520821696255e-05,\n",
       " 'VB_fog_LS_Snow': 5.707520821696255e-05,\n",
       " 'VB_fog_LS_fog': 5.707520821696255e-05,\n",
       " 'VB_fog_KM_Rain': 5.9793075274913156e-05,\n",
       " 'VB_fog_KM_Sun': 5.9793075274913156e-05,\n",
       " 'VB_fog_KM_Clouds': 5.9793075274913156e-05,\n",
       " 'VB_fog_KM_Snow': 5.9793075274913156e-05,\n",
       " 'VB_fog_KM_fog': 5.9793075274913156e-05,\n",
       " 'VB_fog_AG_Rain': 3.805013881130837e-05,\n",
       " 'VB_fog_AG_Sun': 3.805013881130837e-05,\n",
       " 'VB_fog_AG_Clouds': 3.805013881130837e-05,\n",
       " 'VB_fog_AG_Snow': 3.805013881130837e-05,\n",
       " 'VB_fog_AG_fog': 3.805013881130837e-05,\n",
       " 'VB_fog_RG_Rain': 2.1742936463604785e-05,\n",
       " 'VB_fog_RG_Sun': 2.1742936463604785e-05,\n",
       " 'VB_fog_RG_Clouds': 2.1742936463604785e-05,\n",
       " 'VB_fog_RG_Snow': 2.1742936463604785e-05,\n",
       " 'VB_fog_RG_fog': 2.1742936463604785e-05,\n",
       " 'VB_fog_RK_Rain': 2.717867057950598e-06,\n",
       " 'VB_fog_RK_Sun': 2.717867057950598e-06,\n",
       " 'VB_fog_RK_Clouds': 2.717867057950598e-06,\n",
       " 'VB_fog_RK_Snow': 2.717867057950598e-06,\n",
       " 'VB_fog_RK_fog': 2.717867057950598e-06,\n",
       " 'VB_fog_GR_Rain': 0.0,\n",
       " 'VB_fog_GR_Sun': 0.0,\n",
       " 'VB_fog_GR_Clouds': 0.0,\n",
       " 'VB_fog_GR_Snow': 0.0,\n",
       " 'VB_fog_GR_fog': 0.0,\n",
       " ...}"
      ]
     },
     "execution_count": 89,
     "metadata": {},
     "output_type": "execute_result"
    }
   ],
   "source": [
    "def joint(A, B, C, D ,sep=''):\n",
    "    \"\"\"The joint distribution of two independent probability distributions. \n",
    "    Result is all entries of the form {a+sep+b: P(a)*P(b)}\"\"\"\n",
    "    return ProbDist({a + sep + b + sep + c+ sep+ d: A[a] * B[b] * C[c] * D[d]\n",
    "                    for a in A\n",
    "                    for b in B\n",
    "                    for c in C\n",
    "                    for d in D})\n",
    "\n",
    "W = joint(SGP, Weather ,RGP, Weather,'_')\n",
    "W"
   ]
  },
  {
   "cell_type": "markdown",
   "metadata": {},
   "source": [
    "Mercedes wins at least one of these two races on a rainy day"
   ]
  },
  {
   "cell_type": "code",
   "execution_count": 90,
   "metadata": {},
   "outputs": [],
   "source": [
    "def Mercedes_atleast_one(outcome):\n",
    "    return 'LH_Rain' in outcome or 'VB_Rain' in outcome"
   ]
  },
  {
   "cell_type": "code",
   "execution_count": 91,
   "metadata": {},
   "outputs": [
    {
     "data": {
      "text/plain": [
       "0.13408966460186592"
      ]
     },
     "execution_count": 91,
     "metadata": {},
     "output_type": "execute_result"
    }
   ],
   "source": [
    "p(Mercedes_atleast_one, W)"
   ]
  },
  {
   "cell_type": "markdown",
   "metadata": {},
   "source": [
    "The probability Mercedes wins both races, assuming races can be held on either rainy, sunny, cloudy, snowy or foggy days"
   ]
  },
  {
   "cell_type": "code",
   "execution_count": 92,
   "metadata": {},
   "outputs": [],
   "source": [
    "def merc_first_win(outcome):\n",
    "    return outcome.split('_')[0] == 'LH' or outcome.split('_')[0] == 'VB'\n",
    "\n",
    "def merc_second_win(outcome):\n",
    "    return outcome.split('_')[2] == 'LH' or outcome.split('_')[2] == 'VB'"
   ]
  },
  {
   "cell_type": "code",
   "execution_count": 93,
   "metadata": {},
   "outputs": [
    {
     "data": {
      "text/plain": [
       "0.34924174843889355"
      ]
     },
     "execution_count": 93,
     "metadata": {},
     "output_type": "execute_result"
    }
   ],
   "source": [
    "p(merc_second_win, such_that(merc_first_win, W))"
   ]
  }
 ],
 "metadata": {
  "kernelspec": {
   "display_name": "Python 3",
   "language": "python",
   "name": "python3"
  },
  "language_info": {
   "codemirror_mode": {
    "name": "ipython",
    "version": 3
   },
   "file_extension": ".py",
   "mimetype": "text/x-python",
   "name": "python",
   "nbconvert_exporter": "python",
   "pygments_lexer": "ipython3",
   "version": "3.7.4"
  }
 },
 "nbformat": 4,
 "nbformat_minor": 2
}
