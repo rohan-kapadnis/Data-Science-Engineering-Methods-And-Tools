{
 "cells": [
  {
   "cell_type": "markdown",
   "metadata": {},
   "source": [
    "# Classical Hypothesis Testing : Part 1"
   ]
  },
  {
   "cell_type": "markdown",
   "metadata": {},
   "source": [
    "## For Drug A"
   ]
  },
  {
   "cell_type": "code",
   "execution_count": 1,
   "metadata": {},
   "outputs": [],
   "source": [
    "import numpy as np\n",
    "import pandas as pd\n",
    "import matplotlib.pyplot as plt\n",
    "import seaborn as sns\n",
    "from math import factorial as fact\n",
    "from scipy.stats import binom\n",
    "from scipy.stats import t"
   ]
  },
  {
   "cell_type": "code",
   "execution_count": 2,
   "metadata": {
    "scrolled": false
   },
   "outputs": [
    {
     "data": {
      "text/plain": [
       "rec.array([(0.82,), (1.57,), (1.11,), (0.84,), (1.05,), (1.05,), (1.04,),\n",
       "           (1.19,), (1.26,), (1.28,), (0.91,), (0.98,), (1.08,), (1.55,),\n",
       "           (0.96,), (1.28,), (0.95,), (0.95,), (0.75,), (1.78,), (1.46,),\n",
       "           (0.87,), (0.25,), (1.4 ,), (0.86,), (0.84,), (0.99,), (1.25,),\n",
       "           (0.71,), (0.72,), (1.2 ,), (1.12,), (0.65,), (1.08,), (1.24,),\n",
       "           (1.34,), (0.43,), (1.05,)],\n",
       "          dtype=[('a', '<f8')])"
      ]
     },
     "execution_count": 2,
     "metadata": {},
     "output_type": "execute_result"
    }
   ],
   "source": [
    "drug = np.recfromcsv(\"drug-A.csv\", names = 'a') \n",
    "drug"
   ]
  },
  {
   "cell_type": "code",
   "execution_count": 3,
   "metadata": {},
   "outputs": [
    {
     "name": "stdout",
     "output_type": "stream",
     "text": [
      "Skew =  1.287411721043734\n",
      "H0 - field marks come from a normal distribution: \n",
      "Accept.\n"
     ]
    },
    {
     "data": {
      "text/plain": [
       "<matplotlib.legend.Legend at 0x127fb8f90>"
      ]
     },
     "execution_count": 3,
     "metadata": {},
     "output_type": "execute_result"
    },
    {
     "data": {
      "image/png": "[encoded data removed]",
      "text/plain": [
       "<Figure size 432x288 with 1 Axes>"
      ]
     },
     "metadata": {
      "needs_background": "light"
     },
     "output_type": "display_data"
    }
   ],
   "source": [
    "field_mark = np.array(drug[\"a\"], dtype=float)\n",
    "\n",
    "from scipy.stats import normaltest\n",
    "k2, p = normaltest(field_mark)\n",
    "print (\"Skew = \", k2)\n",
    "print (\"H0 - field marks come from a normal distribution: \")\n",
    "if p<0.05:\n",
    "    print (\"Reject in favor of H1.\")\n",
    "else:\n",
    "    print (\"Accept.\")\n",
    "\n",
    "plt.hist(field_mark, bins=5)\n",
    "plt.legend((\"p-value=%.2g\"%p, ))"
   ]
  },
  {
   "cell_type": "code",
   "execution_count": 4,
   "metadata": {},
   "outputs": [],
   "source": [
    "placebo = np.recfromcsv(\"placebo-A.csv\", names = 'a') "
   ]
  },
  {
   "cell_type": "code",
   "execution_count": 5,
   "metadata": {},
   "outputs": [
    {
     "name": "stdout",
     "output_type": "stream",
     "text": [
      "Skew =  1.2202628948918977\n",
      "H0 - field marks come from a normal distribution: \n",
      "Accept.\n"
     ]
    },
    {
     "data": {
      "text/plain": [
       "<matplotlib.legend.Legend at 0x12806db50>"
      ]
     },
     "execution_count": 5,
     "metadata": {},
     "output_type": "execute_result"
    },
    {
     "data": {
      "image/png": "[encoded data removed]",
      "text/plain": [
       "<Figure size 432x288 with 1 Axes>"
      ]
     },
     "metadata": {
      "needs_background": "light"
     },
     "output_type": "display_data"
    }
   ],
   "source": [
    "field_mark = np.array(placebo[\"a\"], dtype=float)\n",
    "\n",
    "from scipy.stats import normaltest\n",
    "k2, p = normaltest(field_mark)\n",
    "print (\"Skew = \", k2)\n",
    "print (\"H0 - field marks come from a normal distribution: \")\n",
    "if p<0.05:\n",
    "    print (\"Reject in favor of H1.\")\n",
    "else:\n",
    "    print (\"Accept.\")\n",
    "\n",
    "plt.hist(field_mark, bins=5)\n",
    "plt.legend((\"p-value=%.2g\"%p, ))"
   ]
  },
  {
   "cell_type": "markdown",
   "metadata": {},
   "source": [
    "Both datasets are in Normal distribution"
   ]
  },
  {
   "cell_type": "code",
   "execution_count": 6,
   "metadata": {},
   "outputs": [],
   "source": [
    "import pandas as pd\n",
    "import numpy as np\n",
    "import matplotlib.pyplot as plt\n",
    "import seaborn as sns\n",
    "from math import factorial as fact\n",
    "from scipy.stats import binom"
   ]
  },
  {
   "cell_type": "code",
   "execution_count": 7,
   "metadata": {},
   "outputs": [
    {
     "data": {
      "text/html": [
       "<div>\n",
       "<style scoped>\n",
       "    .dataframe tbody tr th:only-of-type {\n",
       "        vertical-align: middle;\n",
       "    }\n",
       "\n",
       "    .dataframe tbody tr th {\n",
       "        vertical-align: top;\n",
       "    }\n",
       "\n",
       "    .dataframe thead th {\n",
       "        text-align: right;\n",
       "    }\n",
       "</style>\n",
       "<table border=\"1\" class=\"dataframe\">\n",
       "  <thead>\n",
       "    <tr style=\"text-align: right;\">\n",
       "      <th></th>\n",
       "      <th>a</th>\n",
       "    </tr>\n",
       "  </thead>\n",
       "  <tbody>\n",
       "    <tr>\n",
       "      <td>0</td>\n",
       "      <td>0.82</td>\n",
       "    </tr>\n",
       "    <tr>\n",
       "      <td>1</td>\n",
       "      <td>1.57</td>\n",
       "    </tr>\n",
       "    <tr>\n",
       "      <td>2</td>\n",
       "      <td>1.11</td>\n",
       "    </tr>\n",
       "    <tr>\n",
       "      <td>3</td>\n",
       "      <td>0.84</td>\n",
       "    </tr>\n",
       "    <tr>\n",
       "      <td>4</td>\n",
       "      <td>1.05</td>\n",
       "    </tr>\n",
       "  </tbody>\n",
       "</table>\n",
       "</div>"
      ],
      "text/plain": [
       "      a\n",
       "0  0.82\n",
       "1  1.57\n",
       "2  1.11\n",
       "3  0.84\n",
       "4  1.05"
      ]
     },
     "execution_count": 7,
     "metadata": {},
     "output_type": "execute_result"
    }
   ],
   "source": [
    "a = pd.read_csv('drug-A.csv', names= 'a')\n",
    "a.head()"
   ]
  },
  {
   "cell_type": "code",
   "execution_count": 8,
   "metadata": {},
   "outputs": [
    {
     "data": {
      "text/html": [
       "<div>\n",
       "<style scoped>\n",
       "    .dataframe tbody tr th:only-of-type {\n",
       "        vertical-align: middle;\n",
       "    }\n",
       "\n",
       "    .dataframe tbody tr th {\n",
       "        vertical-align: top;\n",
       "    }\n",
       "\n",
       "    .dataframe thead th {\n",
       "        text-align: right;\n",
       "    }\n",
       "</style>\n",
       "<table border=\"1\" class=\"dataframe\">\n",
       "  <thead>\n",
       "    <tr style=\"text-align: right;\">\n",
       "      <th></th>\n",
       "      <th>b</th>\n",
       "    </tr>\n",
       "  </thead>\n",
       "  <tbody>\n",
       "    <tr>\n",
       "      <td>0</td>\n",
       "      <td>1.16</td>\n",
       "    </tr>\n",
       "    <tr>\n",
       "      <td>1</td>\n",
       "      <td>1.20</td>\n",
       "    </tr>\n",
       "    <tr>\n",
       "      <td>2</td>\n",
       "      <td>1.11</td>\n",
       "    </tr>\n",
       "    <tr>\n",
       "      <td>3</td>\n",
       "      <td>1.15</td>\n",
       "    </tr>\n",
       "    <tr>\n",
       "      <td>4</td>\n",
       "      <td>1.37</td>\n",
       "    </tr>\n",
       "  </tbody>\n",
       "</table>\n",
       "</div>"
      ],
      "text/plain": [
       "      b\n",
       "0  1.16\n",
       "1  1.20\n",
       "2  1.11\n",
       "3  1.15\n",
       "4  1.37"
      ]
     },
     "execution_count": 8,
     "metadata": {},
     "output_type": "execute_result"
    }
   ],
   "source": [
    "b = pd.read_csv('placebo-A.csv', names = 'b')\n",
    "b.head()"
   ]
  },
  {
   "cell_type": "code",
   "execution_count": 9,
   "metadata": {},
   "outputs": [],
   "source": [
    "a_array = a['a']\n",
    "b_array = b['b']"
   ]
  },
  {
   "cell_type": "code",
   "execution_count": 10,
   "metadata": {},
   "outputs": [
    {
     "data": {
      "text/plain": [
       "<matplotlib.collections.PolyCollection at 0x128264f50>"
      ]
     },
     "execution_count": 10,
     "metadata": {},
     "output_type": "execute_result"
    },
    {
     "data": {
      "image/png": "[encoded data removed]",
      "text/plain": [
       "<Figure size 432x288 with 1 Axes>"
      ]
     },
     "metadata": {
      "needs_background": "light"
     },
     "output_type": "display_data"
    }
   ],
   "source": [
    "import numpy as np\n",
    "import matplotlib.pyplot as plt\n",
    "from scipy.stats import t\n",
    "\n",
    "n = len(a)\n",
    "df = n-1\n",
    "x = np.linspace(t.ppf(0.001, df), t.ppf(0.999, df), n)\n",
    "p = t.pdf(x, df)\n",
    "\n",
    "plt.plot(x, p, 'k')\n",
    "plt.fill_between(x, 0, p, interpolate=True,\n",
    "                 where=(x <= t.ppf(0.05, df)))"
   ]
  },
  {
   "cell_type": "code",
   "execution_count": 11,
   "metadata": {
    "scrolled": true
   },
   "outputs": [
    {
     "data": {
      "text/plain": [
       "<matplotlib.collections.PolyCollection at 0x128354450>"
      ]
     },
     "execution_count": 11,
     "metadata": {},
     "output_type": "execute_result"
    },
    {
     "data": {
      "image/png": "[encoded data removed]",
      "text/plain": [
       "<Figure size 432x288 with 1 Axes>"
      ]
     },
     "metadata": {
      "needs_background": "light"
     },
     "output_type": "display_data"
    }
   ],
   "source": [
    "plt.plot(x, p, 'k')\n",
    "plt.fill_between(x, 0, p, interpolate=True,\n",
    "                 where=((x <= t.ppf(0.05, df)) | (x >= t.ppf(0.95, df))))"
   ]
  },
  {
   "cell_type": "code",
   "execution_count": 12,
   "metadata": {},
   "outputs": [
    {
     "name": "stdout",
     "output_type": "stream",
     "text": [
      "t-statistic =  -2.091572454993246\n",
      "p-value =  0.038036759536560556\n"
     ]
    }
   ],
   "source": [
    "from scipy.stats import ttest_ind\n",
    "t_statistic, p_value = ttest_ind(a_array, b_array)\n",
    "print (\"t-statistic = \", t_statistic)\n",
    "print (\"p-value = \", p_value)\n",
    "# t- statistics is negative as it lies to the left of the mean"
   ]
  },
  {
   "cell_type": "code",
   "execution_count": 13,
   "metadata": {
    "scrolled": false
   },
   "outputs": [
    {
     "name": "stderr",
     "output_type": "stream",
     "text": [
      "/opt/anaconda3/lib/python3.7/site-packages/ipykernel_launcher.py:4: FutureWarning: Sorting because non-concatenation axis is not aligned. A future version\n",
      "of pandas will change to not sort by default.\n",
      "\n",
      "To accept the future behavior, pass 'sort=False'.\n",
      "\n",
      "To retain the current behavior and silence the warning, pass 'sort=True'.\n",
      "\n",
      "  after removing the cwd from sys.path.\n"
     ]
    },
    {
     "data": {
      "text/plain": [
       "array([[<matplotlib.axes._subplots.AxesSubplot object at 0x1283a0d50>,\n",
       "        <matplotlib.axes._subplots.AxesSubplot object at 0x1283c3e50>]],\n",
       "      dtype=object)"
      ]
     },
     "execution_count": 13,
     "metadata": {},
     "output_type": "execute_result"
    },
    {
     "data": {
      "image/png": "[encoded data removed]",
      "text/plain": [
       "<Figure size 432x288 with 2 Axes>"
      ]
     },
     "metadata": {
      "needs_background": "light"
     },
     "output_type": "display_data"
    }
   ],
   "source": [
    "drug = a\n",
    "placebo = b\n",
    "\n",
    "trial_data = pd.concat([drug, placebo], ignore_index=True)\n",
    "trial_data.hist()"
   ]
  },
  {
   "cell_type": "markdown",
   "metadata": {},
   "source": [
    "Mean "
   ]
  },
  {
   "cell_type": "code",
   "execution_count": 14,
   "metadata": {},
   "outputs": [
    {
     "name": "stdout",
     "output_type": "stream",
     "text": [
      "38\n",
      "126\n",
      "a    1.048947\n",
      "dtype: float64\n",
      "b    1.142143\n",
      "dtype: float64\n",
      "1.1205487804878047\n"
     ]
    },
    {
     "data": {
      "text/plain": [
       "Ttest_indResult(statistic=array([-1.74736076]), pvalue=array([0.08686706]))"
      ]
     },
     "execution_count": 14,
     "metadata": {},
     "output_type": "execute_result"
    }
   ],
   "source": [
    "combined_iq = np.concatenate((a, b))\n",
    "print(len(a))\n",
    "print(len(b))\n",
    "print( a.mean() )\n",
    "print( b.mean() )\n",
    "print( combined_iq.mean() )\n",
    "\n",
    "# we run the t-test without supposing the variance is the same (more general)\n",
    "ttest_ind(a= a,\n",
    "          b= b,\n",
    "          equal_var=False) "
   ]
  },
  {
   "cell_type": "markdown",
   "metadata": {},
   "source": [
    "Here a(mean) = 1.048947\n",
    "     b(mean) = 1.142143\n",
    "both means are different. \n",
    "\n",
    "\n",
    "\n",
    "                         ***We should thus use  a two-tailed Mann-Whitney p-value test*** \n",
    "\n",
    "***Mann-Whitney p-value test***\n",
    "\n",
    "* Uses ranks of data (like Spearman’s correlation).\n",
    "* Does not require distributions of data to be normal.\n",
    "* Less powerful test (more false negatives) if distributions are normal (as all non-parametric tests).                         \n",
    "    "
   ]
  },
  {
   "cell_type": "markdown",
   "metadata": {},
   "source": [
    "***Null Hypothesis : The drug-A and placebo-A produce the same outcomes.***\n",
    "\n",
    "\n",
    "***Alternate Hypothesis : The drug-A and placebo-A produce different outcomes***\n",
    "\n",
    "\n",
    "\n",
    "A confidence interval is a range of sample values above and below a point estimate of a parameter (like the mean) that captures the true population parameter at some predetermined confidence level.\n",
    "\n",
    "\n",
    "The significance level (denoted by  𝛼 ) is 1 - the confidence interval bound. So, a significance level of 0.05 corresponds to a confidence level of 95%.\n",
    "\n",
    "\n",
    "\n",
    "We have taken the ***𝛼=0.05***\n",
    "\n",
    "\n",
    "\n",
    "\n",
    "If ***p value <= 0.05*** we have sufficient evidence to ***reject the null hypothesis*** and thus we infer that both are not the same distribution\n",
    "\n",
    "\n",
    "\n",
    "If ***p value > 0.05*** we have sufficient evidence to ***support the null hypothesis*** and thus we infer that both are nearly the same distribution \n"
   ]
  },
  {
   "cell_type": "code",
   "execution_count": 15,
   "metadata": {},
   "outputs": [
    {
     "name": "stdout",
     "output_type": "stream",
     "text": [
      "The p-value for comparison is 0.05536008795862507\n",
      "H0-two sample come from the same distribution:\n",
      "accept\n"
     ]
    }
   ],
   "source": [
    "from scipy.stats import mannwhitneyu\n",
    "d,p = mannwhitneyu(a, b, alternative= 'two-sided')\n",
    "\n",
    "print('The p-value for comparison is', p)\n",
    "print('H0-two sample come from the same distribution:')\n",
    "if p <= 0.05:\n",
    "    print('reject, they are not from the same distribution')\n",
    "else:\n",
    "    print('accept')"
   ]
  },
  {
   "cell_type": "markdown",
   "metadata": {},
   "source": [
    "the ***p-value is 0.0553*** which is very close to the threshhold i.e ***0.05***. \n",
    "\n",
    "\n",
    "As 0.05 is slightly bigger that the 𝛼, we have enough evidence to support the null hypthesis which stated that\n",
    "\n",
    "\n",
    "\n",
    "\n",
    "***The drug-A and placebo-A produces the same outcomes***"
   ]
  },
  {
   "cell_type": "markdown",
   "metadata": {},
   "source": [
    "# For Drug B"
   ]
  },
  {
   "cell_type": "code",
   "execution_count": 16,
   "metadata": {},
   "outputs": [],
   "source": [
    "placebo_b = np.recfromcsv(\"placebo-B.csv\", names = 'b') \n",
    "drug_b = np.recfromcsv(\"drug-B.csv\", names = 'b') "
   ]
  },
  {
   "cell_type": "code",
   "execution_count": 17,
   "metadata": {},
   "outputs": [
    {
     "name": "stdout",
     "output_type": "stream",
     "text": [
      "Skew =  20.701784062790804\n",
      "H0 - field marks come from a normal distribution: \n",
      "Reject in favor of H1.\n"
     ]
    },
    {
     "data": {
      "text/plain": [
       "<matplotlib.legend.Legend at 0x1284e16d0>"
      ]
     },
     "execution_count": 17,
     "metadata": {},
     "output_type": "execute_result"
    },
    {
     "data": {
      "image/png": "[encoded data removed]",
      "text/plain": [
       "<Figure size 432x288 with 1 Axes>"
      ]
     },
     "metadata": {
      "needs_background": "light"
     },
     "output_type": "display_data"
    }
   ],
   "source": [
    "field_mark = np.array(drug_b['b'], dtype=float)\n",
    "\n",
    "from scipy.stats import normaltest\n",
    "k2, p = normaltest(field_mark)\n",
    "print (\"Skew = \", k2)\n",
    "print (\"H0 - field marks come from a normal distribution: \")\n",
    "if p<0.05:\n",
    "    print (\"Reject in favor of H1.\")\n",
    "else:\n",
    "    print (\"Accept.\")\n",
    "\n",
    "plt.hist(field_mark, bins=5)\n",
    "plt.legend((\"p-value=%.2g\"%p, ))"
   ]
  },
  {
   "cell_type": "markdown",
   "metadata": {},
   "source": [
    "Above distribution does not follow normal distribution. \n",
    "\n",
    "\n",
    "\n",
    "\n",
    "We'll use ***Mann-Whitney p-value test*** "
   ]
  },
  {
   "cell_type": "code",
   "execution_count": 18,
   "metadata": {},
   "outputs": [
    {
     "name": "stdout",
     "output_type": "stream",
     "text": [
      "Skew =  2.0203883984723765\n",
      "H0 - field marks come from a normal distribution: \n",
      "Accept.\n"
     ]
    },
    {
     "data": {
      "text/plain": [
       "<matplotlib.legend.Legend at 0x128606c50>"
      ]
     },
     "execution_count": 18,
     "metadata": {},
     "output_type": "execute_result"
    },
    {
     "data": {
      "image/png": "[encoded data removed]",
      "text/plain": [
       "<Figure size 432x288 with 1 Axes>"
      ]
     },
     "metadata": {
      "needs_background": "light"
     },
     "output_type": "display_data"
    }
   ],
   "source": [
    "field_mark = np.array(placebo_b['b'], dtype=float)\n",
    "\n",
    "from scipy.stats import normaltest\n",
    "k2, p = normaltest(field_mark)\n",
    "print (\"Skew = \", k2)\n",
    "print (\"H0 - field marks come from a normal distribution: \")\n",
    "if p<0.05:\n",
    "    print (\"Reject in favor of H1.\")\n",
    "else:\n",
    "    print (\"Accept.\")\n",
    "\n",
    "plt.hist(field_mark, bins=5)\n",
    "plt.legend((\"p-value=%.2g\"%p, ))"
   ]
  },
  {
   "cell_type": "markdown",
   "metadata": {},
   "source": [
    "Mean"
   ]
  },
  {
   "cell_type": "code",
   "execution_count": 19,
   "metadata": {},
   "outputs": [
    {
     "data": {
      "text/html": [
       "<div>\n",
       "<style scoped>\n",
       "    .dataframe tbody tr th:only-of-type {\n",
       "        vertical-align: middle;\n",
       "    }\n",
       "\n",
       "    .dataframe tbody tr th {\n",
       "        vertical-align: top;\n",
       "    }\n",
       "\n",
       "    .dataframe thead th {\n",
       "        text-align: right;\n",
       "    }\n",
       "</style>\n",
       "<table border=\"1\" class=\"dataframe\">\n",
       "  <thead>\n",
       "    <tr style=\"text-align: right;\">\n",
       "      <th></th>\n",
       "      <th>a</th>\n",
       "    </tr>\n",
       "  </thead>\n",
       "  <tbody>\n",
       "    <tr>\n",
       "      <td>0</td>\n",
       "      <td>8.9</td>\n",
       "    </tr>\n",
       "    <tr>\n",
       "      <td>1</td>\n",
       "      <td>8.1</td>\n",
       "    </tr>\n",
       "    <tr>\n",
       "      <td>2</td>\n",
       "      <td>10.1</td>\n",
       "    </tr>\n",
       "    <tr>\n",
       "      <td>3</td>\n",
       "      <td>6.7</td>\n",
       "    </tr>\n",
       "    <tr>\n",
       "      <td>4</td>\n",
       "      <td>9.0</td>\n",
       "    </tr>\n",
       "  </tbody>\n",
       "</table>\n",
       "</div>"
      ],
      "text/plain": [
       "      a\n",
       "0   8.9\n",
       "1   8.1\n",
       "2  10.1\n",
       "3   6.7\n",
       "4   9.0"
      ]
     },
     "execution_count": 19,
     "metadata": {},
     "output_type": "execute_result"
    }
   ],
   "source": [
    "a = pd.read_csv('drug-B.csv', names= 'a')\n",
    "a.head()\n"
   ]
  },
  {
   "cell_type": "code",
   "execution_count": 20,
   "metadata": {},
   "outputs": [
    {
     "data": {
      "text/html": [
       "<div>\n",
       "<style scoped>\n",
       "    .dataframe tbody tr th:only-of-type {\n",
       "        vertical-align: middle;\n",
       "    }\n",
       "\n",
       "    .dataframe tbody tr th {\n",
       "        vertical-align: top;\n",
       "    }\n",
       "\n",
       "    .dataframe thead th {\n",
       "        text-align: right;\n",
       "    }\n",
       "</style>\n",
       "<table border=\"1\" class=\"dataframe\">\n",
       "  <thead>\n",
       "    <tr style=\"text-align: right;\">\n",
       "      <th></th>\n",
       "      <th>b</th>\n",
       "    </tr>\n",
       "  </thead>\n",
       "  <tbody>\n",
       "    <tr>\n",
       "      <td>0</td>\n",
       "      <td>6.2</td>\n",
       "    </tr>\n",
       "    <tr>\n",
       "      <td>1</td>\n",
       "      <td>4.8</td>\n",
       "    </tr>\n",
       "    <tr>\n",
       "      <td>2</td>\n",
       "      <td>5.8</td>\n",
       "    </tr>\n",
       "    <tr>\n",
       "      <td>3</td>\n",
       "      <td>4.7</td>\n",
       "    </tr>\n",
       "    <tr>\n",
       "      <td>4</td>\n",
       "      <td>5.6</td>\n",
       "    </tr>\n",
       "  </tbody>\n",
       "</table>\n",
       "</div>"
      ],
      "text/plain": [
       "     b\n",
       "0  6.2\n",
       "1  4.8\n",
       "2  5.8\n",
       "3  4.7\n",
       "4  5.6"
      ]
     },
     "execution_count": 20,
     "metadata": {},
     "output_type": "execute_result"
    }
   ],
   "source": [
    "b = pd.read_csv('placebo-B.csv', names= 'b')\n",
    "b.head()\n"
   ]
  },
  {
   "cell_type": "code",
   "execution_count": 22,
   "metadata": {},
   "outputs": [
    {
     "name": "stderr",
     "output_type": "stream",
     "text": [
      "/opt/anaconda3/lib/python3.7/site-packages/ipykernel_launcher.py:4: FutureWarning: Sorting because non-concatenation axis is not aligned. A future version\n",
      "of pandas will change to not sort by default.\n",
      "\n",
      "To accept the future behavior, pass 'sort=False'.\n",
      "\n",
      "To retain the current behavior and silence the warning, pass 'sort=True'.\n",
      "\n",
      "  after removing the cwd from sys.path.\n"
     ]
    },
    {
     "data": {
      "text/plain": [
       "array([[<matplotlib.axes._subplots.AxesSubplot object at 0x1288563d0>,\n",
       "        <matplotlib.axes._subplots.AxesSubplot object at 0x1288747d0>]],\n",
       "      dtype=object)"
      ]
     },
     "execution_count": 22,
     "metadata": {},
     "output_type": "execute_result"
    },
    {
     "data": {
      "image/png": "[encoded data removed]",
      "text/plain": [
       "<Figure size 432x288 with 2 Axes>"
      ]
     },
     "metadata": {
      "needs_background": "light"
     },
     "output_type": "display_data"
    }
   ],
   "source": [
    "drug = a\n",
    "placebo = b\n",
    "\n",
    "trial_data = pd.concat([drug, placebo], ignore_index=True)\n",
    "trial_data.hist()"
   ]
  },
  {
   "cell_type": "code",
   "execution_count": 23,
   "metadata": {
    "scrolled": true
   },
   "outputs": [
    {
     "data": {
      "text/plain": [
       "<matplotlib.collections.PolyCollection at 0x128a60710>"
      ]
     },
     "execution_count": 23,
     "metadata": {},
     "output_type": "execute_result"
    },
    {
     "data": {
      "image/png": "[encoded data removed]",
      "text/plain": [
       "<Figure size 432x288 with 1 Axes>"
      ]
     },
     "metadata": {
      "needs_background": "light"
     },
     "output_type": "display_data"
    }
   ],
   "source": [
    "import numpy as np\n",
    "import matplotlib.pyplot as plt\n",
    "from scipy.stats import t\n",
    "\n",
    "n = len(a)\n",
    "df = n-1\n",
    "x = np.linspace(t.ppf(0.001, df), t.ppf(0.999, df), n)\n",
    "p = t.pdf(x, df)\n",
    "\n",
    "plt.plot(x, p, 'k')\n",
    "plt.fill_between(x, 0, p, interpolate=True,\n",
    "                 where=(x <= t.ppf(0.05, df)))"
   ]
  },
  {
   "cell_type": "code",
   "execution_count": 24,
   "metadata": {
    "scrolled": true
   },
   "outputs": [
    {
     "data": {
      "text/plain": [
       "<matplotlib.collections.PolyCollection at 0x128acfc90>"
      ]
     },
     "execution_count": 24,
     "metadata": {},
     "output_type": "execute_result"
    },
    {
     "data": {
      "image/png": "[encoded data removed]",
      "text/plain": [
       "<Figure size 432x288 with 1 Axes>"
      ]
     },
     "metadata": {
      "needs_background": "light"
     },
     "output_type": "display_data"
    }
   ],
   "source": [
    "plt.plot(x, p, 'k')\n",
    "plt.fill_between(x, 0, p, interpolate=True,\n",
    "                 where=((x <= t.ppf(0.05, df)) | (x >= t.ppf(0.95, df))))"
   ]
  },
  {
   "cell_type": "code",
   "execution_count": 25,
   "metadata": {},
   "outputs": [
    {
     "name": "stdout",
     "output_type": "stream",
     "text": [
      "37\n",
      "38\n",
      "a    6.378378\n",
      "dtype: float64\n",
      "b    4.997368\n",
      "dtype: float64\n",
      "5.6786666666666665\n"
     ]
    },
    {
     "data": {
      "text/plain": [
       "Ttest_indResult(statistic=array([3.29433243]), pvalue=array([0.00187145]))"
      ]
     },
     "execution_count": 25,
     "metadata": {},
     "output_type": "execute_result"
    }
   ],
   "source": [
    "combined_iq = np.concatenate((a, b))\n",
    "print(len(a))\n",
    "print(len(b))\n",
    "print( a.mean() )\n",
    "print( b.mean() )\n",
    "print( combined_iq.mean() )\n",
    "\n",
    "# we run the t-test without supposing the variance is the same (more general)\n",
    "ttest_ind(a= a,\n",
    "          b= b,\n",
    "          equal_var=False) "
   ]
  },
  {
   "cell_type": "markdown",
   "metadata": {},
   "source": [
    "The mean of placebo is significantly lower than the actaul drug as specified "
   ]
  },
  {
   "cell_type": "markdown",
   "metadata": {},
   "source": [
    "Here a(mean) = 1.048947 b(mean) = 1.142143 both means are different.\n",
    "\n",
    "                     ***We should thus use  a two-tailed Mann-Whitney p-value test*** \n",
    "\n",
    "Mann-Whitney test\n",
    "\n",
    "\n",
    "***Null Hypothesis : The drug-B and placebo-B produce the same outcomes.***\n",
    "\n",
    "***Alternate Hypothesis : The drug-B and placebo-B produce different outcomes***\n",
    "\n",
    "A confidence interval is a range of sample values above and below a point estimate of a parameter (like the mean) that captures the true population parameter at some predetermined confidence level.\n",
    "\n",
    "The significance level (denoted by 𝛼 ) is 1 - the confidence interval bound. So, a significance level of 0.05 corresponds to a confidence level of 95%.\n",
    "\n",
    "We have taken the ***𝛼=0.05***\n",
    "\n",
    "If p value <= 0.05 we have sufficient evidence to ***reject the null hypothesis*** and thus we infer that both are not the same distribution\n",
    "\n",
    "If p value > 0.05 we have sufficient evidence to ***support the null hypothesis*** and thus we infer that both are nearly the same distribution"
   ]
  },
  {
   "cell_type": "code",
   "execution_count": 26,
   "metadata": {},
   "outputs": [
    {
     "name": "stdout",
     "output_type": "stream",
     "text": [
      "The p-value for comparison is 0.043966087030391815\n",
      "H0-two sample come from the same distribution:\n",
      "reject, they are not from the same distribution\n"
     ]
    }
   ],
   "source": [
    "from scipy.stats import mannwhitneyu\n",
    "d,p = mannwhitneyu(a, b, alternative= 'two-sided')\n",
    "\n",
    "print('The p-value for comparison is', p)\n",
    "print('H0-two sample come from the same distribution:')\n",
    "if p <= 0.05:\n",
    "    print('reject, they are not from the same distribution')\n",
    "else:\n",
    "    print('accept')"
   ]
  },
  {
   "cell_type": "markdown",
   "metadata": {},
   "source": [
    "If the p-value is low, for example 0.01, this means that there is only a small chance (one percent for p=0.01) that the data would have been observed by chance, so the null hypothesis is unlikely.\n",
    "\n",
    "If the p-value is low, that means the probability of obtaining data by chance is low\n",
    "\n",
    "\n",
    "***Thus we can rule out the possibility that the lower outcome is just due to chance.***"
   ]
  }
 ],
 "metadata": {
  "kernelspec": {
   "display_name": "Python 3",
   "language": "python",
   "name": "python3"
  },
  "language_info": {
   "codemirror_mode": {
    "name": "ipython",
    "version": 3
   },
   "file_extension": ".py",
   "mimetype": "text/x-python",
   "name": "python",
   "nbconvert_exporter": "python",
   "pygments_lexer": "ipython3",
   "version": "3.7.4"
  }
 },
 "nbformat": 4,
 "nbformat_minor": 2
}
